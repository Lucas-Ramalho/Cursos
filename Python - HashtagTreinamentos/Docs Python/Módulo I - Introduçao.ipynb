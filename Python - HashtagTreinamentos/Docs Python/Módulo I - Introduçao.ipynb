{
 "cells": [
  {
   "cell_type": "markdown",
   "metadata": {},
   "source": [
    "# Módulo I\n",
    "\n",
    "Meu primeiro Programa, em Python"
   ]
  },
  {
   "cell_type": "code",
   "execution_count": 35,
   "metadata": {},
   "outputs": [
    {
     "name": "stdout",
     "output_type": "stream",
     "text": [
      "O código print serve para imprmir - texto, numeros, variáveis, funcoes, etc\n"
     ]
    }
   ],
   "source": [
    "print('O código print serve para imprmir - texto, numeros, variáveis, funcoes, etc')"
   ]
  },
  {
   "cell_type": "markdown",
   "metadata": {},
   "source": [
    "# Operações Matemáticas no Python"
   ]
  },
  {
   "cell_type": "code",
   "execution_count": 36,
   "metadata": {},
   "outputs": [
    {
     "name": "stdout",
     "output_type": "stream",
     "text": [
      "Soma\n",
      "2\n",
      "Subtração\n",
      "0\n",
      "Multiplicação\n",
      "2\n",
      "Potencia\n",
      "8\n",
      "Divisão\n",
      "2.0\n",
      "Modulo\n",
      "1\n"
     ]
    }
   ],
   "source": [
    "print('Soma')\n",
    "print(1+1)\n",
    "\n",
    "print('Subtração')\n",
    "print(1-1)\n",
    "\n",
    "print('Multiplicação')\n",
    "print(1 * 2)\n",
    "\n",
    "print('Potencia')\n",
    "print (2 ** 3)\n",
    "\n",
    "print('Divisão')\n",
    "print(4 / 2)\n",
    "\n",
    "print('Modulo')\n",
    "print(7 % 2)"
   ]
  },
  {
   "cell_type": "markdown",
   "metadata": {},
   "source": [
    "# Operações de Texto - Strings"
   ]
  },
  {
   "cell_type": "code",
   "execution_count": 37,
   "metadata": {},
   "outputs": [
    {
     "name": "stdout",
     "output_type": "stream",
     "text": [
      "Meu nome é Lucas Ramalho\n"
     ]
    }
   ],
   "source": [
    "# Concatenar\n",
    "\n",
    "print('Meu nome é' + ' Lucas Ramalho')"
   ]
  },
  {
   "cell_type": "code",
   "execution_count": 38,
   "metadata": {},
   "outputs": [
    {
     "name": "stdout",
     "output_type": "stream",
     "text": [
      "False\n",
      "True\n",
      "False\n"
     ]
    }
   ],
   "source": [
    "# In - verificar se um dado ou conjunto de dados está contido em outro conjunto\n",
    "        # É Case Sensitive, ou seja diferencia letras maiusculas e minusculas\n",
    "\n",
    "print('Meu nome é' in 'Lucas Ramalho')\n",
    "print('Ramalho' in 'Lucas Ramalho')\n",
    "print('ramalho' in 'Lucas Ramalho')\n",
    "\n"
   ]
  },
  {
   "cell_type": "markdown",
   "metadata": {},
   "source": [
    "# Variáveis"
   ]
  },
  {
   "cell_type": "code",
   "execution_count": 39,
   "metadata": {},
   "outputs": [
    {
     "name": "stdout",
     "output_type": "stream",
     "text": [
      "Lucas\n",
      "1500\n"
     ]
    }
   ],
   "source": [
    "# Variável é um nome que dou pra algum valor espeífico\n",
    "\n",
    "\n",
    "qtdeVendas = 1500\n",
    "nome = 'Lucas'\n",
    "\n",
    "print(nome)\n",
    "print(qtdeVendas)"
   ]
  },
  {
   "cell_type": "markdown",
   "metadata": {},
   "source": [
    "# Input"
   ]
  },
  {
   "cell_type": "code",
   "execution_count": 29,
   "metadata": {},
   "outputs": [
    {
     "name": "stdout",
     "output_type": "stream",
     "text": [
      "Qual o seu nome? Raquel\n"
     ]
    },
    {
     "data": {
      "text/plain": [
       "'Raquel'"
      ]
     },
     "execution_count": 29,
     "metadata": {},
     "output_type": "execute_result"
    }
   ],
   "source": [
    "# Input possibilita que o programa nos pergunte algo e receba uma informacao\n",
    "\n",
    "input('Qual o seu nome? ')"
   ]
  },
  {
   "cell_type": "code",
   "execution_count": 31,
   "metadata": {},
   "outputs": [
    {
     "name": "stdout",
     "output_type": "stream",
     "text": [
      "Qual o seu nome? Lucas\n",
      "Lucas\n"
     ]
    }
   ],
   "source": [
    "# pra usar a resposta no código, precisa armazenar em uma variavel\n",
    "\n",
    "nome = input('Qual o seu nome? ')\n",
    "print(nome)"
   ]
  },
  {
   "cell_type": "code",
   "execution_count": 34,
   "metadata": {},
   "outputs": [
    {
     "name": "stdout",
     "output_type": "stream",
     "text": [
      "Qual o seu nome? Lucas\n",
      "Qual seu sobrenomeRamalho\n",
      "Lucas Ramalho\n"
     ]
    }
   ],
   "source": [
    "nome = input('Qual o seu nome? ')\n",
    "sobrenome = input('Qual seu sobrenome')\n",
    "\n",
    "print(nome + ' ' + sobrenome)"
   ]
  },
  {
   "cell_type": "markdown",
   "metadata": {},
   "source": [
    "# Tipos de variáveis"
   ]
  },
  {
   "cell_type": "markdown",
   "metadata": {},
   "source": [
    "Uma variável é um objeto, afinal tudo é um objeto em Python\n",
    "\n",
    "int -> inteiro <br>\n",
    "string -> texto <br>\n",
    "float -> numeros com casas decimais (ponto flutuante) <br>\n",
    "bool ou boolean -> True ou False <br>\n",
    "\n",
    "Obs: Variáveis em Python não são declaradas explicitamente, mas isso não significa que você deve ficar mudando o tempo todo\n",
    "\n",
    "    \n",
    "Obs2: Cuidado com os nomes restritos\n",
    "\n",
    "    "
   ]
  },
  {
   "cell_type": "code",
   "execution_count": 40,
   "metadata": {},
   "outputs": [
    {
     "data": {
      "text/plain": [
       "int"
      ]
     },
     "execution_count": 40,
     "metadata": {},
     "output_type": "execute_result"
    }
   ],
   "source": [
    "faturamento = 1000\n",
    "type(faturamento)"
   ]
  },
  {
   "cell_type": "code",
   "execution_count": 41,
   "metadata": {},
   "outputs": [
    {
     "data": {
      "text/plain": [
       "float"
      ]
     },
     "execution_count": 41,
     "metadata": {},
     "output_type": "execute_result"
    }
   ],
   "source": [
    "faturamento = 1000.00\n",
    "type(faturamento)"
   ]
  },
  {
   "cell_type": "code",
   "execution_count": 42,
   "metadata": {},
   "outputs": [
    {
     "data": {
      "text/plain": [
       "str"
      ]
     },
     "execution_count": 42,
     "metadata": {},
     "output_type": "execute_result"
    }
   ],
   "source": [
    "faturamento = '1.000'\n",
    "type(faturamento)"
   ]
  },
  {
   "cell_type": "code",
   "execution_count": 47,
   "metadata": {},
   "outputs": [
    {
     "data": {
      "text/plain": [
       "bool"
      ]
     },
     "execution_count": 47,
     "metadata": {},
     "output_type": "execute_result"
    }
   ],
   "source": [
    "ganhaBonus = True\n",
    "type(ganhaBonus)"
   ]
  },
  {
   "cell_type": "markdown",
   "metadata": {},
   "source": [
    "### Misturando tipos de variáveis"
   ]
  },
  {
   "cell_type": "code",
   "execution_count": 50,
   "metadata": {},
   "outputs": [
    {
     "name": "stdout",
     "output_type": "stream",
     "text": [
      "O faturamento da loja foi 1000 reais. O custo da Loja foi500. Assim, o lucro da loja foi de 500\n"
     ]
    }
   ],
   "source": [
    "# Trabalhando com variaveis de tipos diferentes, o Python não permite utilizar duas variaveis de tipo diferentes juntas\n",
    "# Pra dar certo preciso transformar a variavel para que elas coincidm\n",
    "\n",
    "\n",
    "faturamento = 1000\n",
    "custo = 500\n",
    "lucro = faturamento - custo\n",
    "print('O faturamento da loja foi ' + str(faturamento) + ' reais. O custo da Loja foi' + str(custo) + '. Assim, o lucro da loja foi de ' + str(lucro))"
   ]
  },
  {
   "cell_type": "markdown",
   "metadata": {},
   "source": [
    "### Método Format"
   ]
  },
  {
   "cell_type": "code",
   "execution_count": 53,
   "metadata": {},
   "outputs": [
    {
     "name": "stdout",
     "output_type": "stream",
     "text": [
      "O faturamento da loja foi 1000, o custo da loja foi 500. Assim o lucro da loja foi 500\n"
     ]
    }
   ],
   "source": [
    "faturamento = 1000\n",
    "custo = 500\n",
    "lucro = faturamento - custo\n",
    "\n",
    "\n",
    "print('O faturamento da loja foi {}, o custo da loja foi {}. Assim o lucro da loja foi {}'.format(faturamento, custo, lucro))"
   ]
  },
  {
   "cell_type": "code",
   "execution_count": null,
   "metadata": {},
   "outputs": [],
   "source": []
  },
  {
   "cell_type": "code",
   "execution_count": null,
   "metadata": {},
   "outputs": [],
   "source": []
  },
  {
   "cell_type": "code",
   "execution_count": null,
   "metadata": {},
   "outputs": [],
   "source": []
  },
  {
   "cell_type": "code",
   "execution_count": null,
   "metadata": {},
   "outputs": [],
   "source": []
  }
 ],
 "metadata": {
  "kernelspec": {
   "display_name": "Python 3",
   "language": "python",
   "name": "python3"
  },
  "language_info": {
   "codemirror_mode": {
    "name": "ipython",
    "version": 3
   },
   "file_extension": ".py",
   "mimetype": "text/x-python",
   "name": "python",
   "nbconvert_exporter": "python",
   "pygments_lexer": "ipython3",
   "version": "3.8.5"
  }
 },
 "nbformat": 4,
 "nbformat_minor": 4
}
