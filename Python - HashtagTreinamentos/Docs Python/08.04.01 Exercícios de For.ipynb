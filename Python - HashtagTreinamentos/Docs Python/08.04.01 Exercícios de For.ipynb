{
 "cells": [
  {
   "cell_type": "markdown",
   "metadata": {},
   "source": [
    "# Exercícios\n",
    "\n",
    "## 1. Criando um Registro de Hóspedes\n",
    "\n",
    "Digamos que você está criando o sistema para registrar a chegada de hóspedes em um hotel. No hotel, os hóspedes podem ter quartos com 1, 2, 3 e 4 pessoas. Seu sistema deve conseguir:\n",
    "\n",
    "1. Identificar quantas pessoas o hóspede que acabou de chegar vai ter no quarto (perguntando por meio de input)\n",
    "2. De acordo com a quantidade de pessoas do hóspede, ele deve fazer um for para perguntar o cpf e o nome de cada pessoa, a fim de registrá-la no quarto (2 inputs para cada pessoa, 1 para o cpf e outro para o nome)\n",
    "3. O seu programa então deve gerar uma lista com todas as pessoas que ficarão no quarto em que cada item dessa lista é o nome da pessoa e o cpf da pessoa, assim:"
   ]
  },
  {
   "cell_type": "raw",
   "metadata": {},
   "source": [
    "quarto = [\n",
    "    ['João', 'cpf:00000000000'],\n",
    "    ['Julia', 'cpf:11111111111'],\n",
    "    ['Marcus', 'cpf:22222222222'],\n",
    "    ['Maria', 'cpf:33333333333'],\n",
    "]"
   ]
  },
  {
   "cell_type": "markdown",
   "metadata": {},
   "source": [
    "- Para simplificar, não vamos nos preocupar com possibilidades de \"tentar colocar mais de 1 hóspede, digitar o cpf errado, etc. Nosso objetivo é treinar a criação de uma rotina de cadastro"
   ]
  },
  {
   "cell_type": "code",
   "execution_count": 25,
   "metadata": {},
   "outputs": [
    {
     "name": "stdout",
     "output_type": "stream",
     "text": [
      "Quantas pessoas terão no quarto?: 2\n",
      "Nome: Lucas\n",
      "CPF: 42890235840\n",
      "Nome: Raquel\n",
      "CPF: 42890235840\n",
      "Reserva confirmada! pessoas no quarto [['Lucas', 'cpf: 42890235840'], ['Raquel', 'cpf: 42890235840']]\n"
     ]
    }
   ],
   "source": [
    "#seu código aqui\n",
    "\n",
    "quarto = []\n",
    "\n",
    "qtde_hospede = int(input('Quantas pessoas terão no quarto?: '))\n",
    "\n",
    "if qtde_hospede <= 4:\n",
    "    for i in range(qtde_hospede):\n",
    "        hospede = [input('Nome: '), 'cpf: ' + input('CPF: ')]\n",
    "        quarto.append(hospede) \n",
    "    print('Reserva confirmada! pessoas no quarto {}'.format(quarto))\n",
    "else:\n",
    "    print('Permitidas até 4 pessoas por quarto')\n"
   ]
  },
  {
   "cell_type": "markdown",
   "metadata": {},
   "source": [
    "## 2. Análise de Vendas\n",
    "\n",
    "Nesse exercício vamos fazer uma \"análise simples\" de atingimento de Meta.\n",
    "\n",
    "Temos uma lista com os vendedores e os valores de vendas e queremos identificar (printar) quais os vendedores que bateram a meta e qual foi o valor que eles venderam."
   ]
  },
  {
   "cell_type": "code",
   "execution_count": 35,
   "metadata": {},
   "outputs": [
    {
     "name": "stdout",
     "output_type": "stream",
     "text": [
      "['João', 15000]\n",
      "['Julia', 27000]\n",
      "['Ana', 10300]\n"
     ]
    }
   ],
   "source": [
    "meta = 10000\n",
    "vendas = [\n",
    "    ['João', 15000],\n",
    "    ['Julia', 27000],\n",
    "    ['Marcus', 9900],\n",
    "    ['Maria', 3750],\n",
    "    ['Ana', 10300],\n",
    "    ['Alon', 7870],\n",
    "]\n",
    "#seu código aqui\n",
    "\n",
    "for venda in vendas:\n",
    "        if venda[1] >= meta:\n",
    "             print(venda)"
   ]
  },
  {
   "cell_type": "markdown",
   "metadata": {},
   "source": [
    "## 3. Comparação com Ano Anterior\n",
    "\n",
    "Digamos que você está analisando as vendas de produtos de um ecommerce e quer identificar quais produtos tiveram no ano de 2020 mais vendas do que no ano de 2019, para reportar isso para a diretoria.\n",
    "\n",
    "Sua resposta pode ser um print de cada produto, qual foi a venda de 2019, a venda de 2020 e o % de crescimento de 2020 para 2019.\n",
    "\n",
    "Lembrando, para calcular o % de crescimento de um produto de um ano para o outro, podemos fazer: (vendas_produto2020/vendas_produto2019 - 1)\n",
    "\n",
    "Dica: lembre do enumerate, ele pode facilitar seu \"for\""
   ]
  },
  {
   "cell_type": "code",
   "execution_count": 2,
   "metadata": {},
   "outputs": [],
   "source": [
    "produtos = ['iphone', 'galaxy', 'ipad', 'tv', 'máquina de café', 'kindle', 'geladeira', 'adega', 'notebook dell', 'notebook hp', 'notebook asus', 'microsoft surface', 'webcam', 'caixa de som', 'microfone', 'câmera canon']\n",
    "vendas2019 = [558147,712350,573823,405252,718654,531580,973139,892292,422760,154753,887061,438508,237467,489705,328311,591120]\n",
    "vendas2020 = [951642,244295,26964,787604,867660,78830,710331,646016,694913,539704,324831,667179,295633,725316,644622,994303]\n",
    "#seu código aqui\n",
    "\n",
    "\n",
    "\n",
    "\n"
   ]
  },
  {
   "cell_type": "code",
   "execution_count": 7,
   "metadata": {},
   "outputs": [
    {
     "name": "stdout",
     "output_type": "stream",
     "text": [
      "O produto iphone, teve 951642 de vendas em 2020 e 558147 de vendas em 2019, o que corresponde a 70.50% de aumento\n",
      "O produto tv, teve 787604 de vendas em 2020 e 405252 de vendas em 2019, o que corresponde a 94.35% de aumento\n",
      "O produto máquina de café, teve 867660 de vendas em 2020 e 718654 de vendas em 2019, o que corresponde a 20.73% de aumento\n",
      "O produto notebook dell, teve 694913 de vendas em 2020 e 422760 de vendas em 2019, o que corresponde a 64.38% de aumento\n",
      "O produto notebook hp, teve 539704 de vendas em 2020 e 154753 de vendas em 2019, o que corresponde a 248.75% de aumento\n",
      "O produto microsoft surface, teve 667179 de vendas em 2020 e 438508 de vendas em 2019, o que corresponde a 52.15% de aumento\n",
      "O produto webcam, teve 295633 de vendas em 2020 e 237467 de vendas em 2019, o que corresponde a 24.49% de aumento\n",
      "O produto caixa de som, teve 725316 de vendas em 2020 e 489705 de vendas em 2019, o que corresponde a 48.11% de aumento\n",
      "O produto microfone, teve 644622 de vendas em 2020 e 328311 de vendas em 2019, o que corresponde a 96.34% de aumento\n",
      "O produto câmera canon, teve 994303 de vendas em 2020 e 591120 de vendas em 2019, o que corresponde a 68.21% de aumento\n"
     ]
    }
   ],
   "source": [
    "for i, produto in enumerate(produtos):\n",
    "    if vendas2020[i] > vendas2019[i]:\n",
    "        print('O produto {}, teve {} de vendas em 2020 e {} de vendas em 2019, o que corresponde a {:.2%} de aumento'.format(produto, vendas2020[i], vendas2019[i], (vendas2020[i]/vendas2019[i]-1)))"
   ]
  }
 ],
 "metadata": {
  "kernelspec": {
   "display_name": "Python 3",
   "language": "python",
   "name": "python3"
  },
  "language_info": {
   "codemirror_mode": {
    "name": "ipython",
    "version": 3
   },
   "file_extension": ".py",
   "mimetype": "text/x-python",
   "name": "python",
   "nbconvert_exporter": "python",
   "pygments_lexer": "ipython3",
   "version": "3.8.5"
  }
 },
 "nbformat": 4,
 "nbformat_minor": 4
}
