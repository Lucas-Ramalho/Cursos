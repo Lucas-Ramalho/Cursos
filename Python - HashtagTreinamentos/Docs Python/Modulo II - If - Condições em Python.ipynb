{
 "cells": [
  {
   "cell_type": "markdown",
   "metadata": {},
   "source": [
    "# Condiçoes no Python -> If"
   ]
  },
  {
   "cell_type": "markdown",
   "metadata": {},
   "source": [
    "### Estrutura:\n",
    "\n",
    "### Uso mais simples:"
   ]
  },
  {
   "cell_type": "code",
   "execution_count": null,
   "metadata": {},
   "outputs": [],
   "source": [
    "If condicao:\n",
    "    o que fazer caso a condicao seja verdadeira"
   ]
  },
  {
   "cell_type": "markdown",
   "metadata": {},
   "source": [
    "### Exemplo Real\n",
    "\n",
    "Você trabalha na Amazon e está analisando o resultado das vendas do produtos.\n",
    "\n",
    "Você precisa criar um programa que vai analisar o resultado de vendas dosprodutos da Amazon.\n",
    "Para simplificar vamos pensar em um unico produto: um Iphone.\n",
    "    \n",
    "\n",
    "Meta de vendas do Iphone = 50.000 unidades\n",
    "Quantidade vendida no Mês = 65.300 unidades\n",
    "\n",
    "\n",
    "O seu programa deve avisar caso o produto tenha batido a meta do mês.\n",
    "\n",
    "    - Caso o produto tenha batido a meta: \"Batemos a metya de vendas de iphone, vendemos {} unidades\"\n",
    "    - Se ele não bateu a meta do mes, o programa não faz nada.    "
   ]
  },
  {
   "cell_type": "code",
   "execution_count": 13,
   "metadata": {},
   "outputs": [
    {
     "name": "stdout",
     "output_type": "stream",
     "text": [
      "Batemos a meta de vendas de iphone, vendemos 65300 unidades\n"
     ]
    }
   ],
   "source": [
    "metaVendas = 50000\n",
    "qtdVendida = 65300\n",
    "\n",
    "\n",
    "if qtdVendida > metaVendas:\n",
    "    print('Batemos a meta de vendas de iphone, vendemos {} unidades'.format(qtdVendida))\n",
    "\n",
    "\n"
   ]
  },
  {
   "cell_type": "markdown",
   "metadata": {},
   "source": [
    "### Tratando a condição falsa:"
   ]
  },
  {
   "cell_type": "markdown",
   "metadata": {},
   "source": [
    "Quando usamos o if, nem sempre queremos analisar o caso verdadeiro, em boa paere das vezes queremos fazer alguma coisa\n",
    "caso a condição seja verdadeiro e outra coisa caso a condicao seja falsa\n",
    "\n",
    "\n",
    "Nesse caso usaremos:"
   ]
  },
  {
   "cell_type": "code",
   "execution_count": null,
   "metadata": {},
   "outputs": [],
   "source": [
    "if condicao:\n",
    "    o que eu quero fazer  caso verdadeiro\n",
    "else:\n",
    "    o que eu quero fazer caso a condicao seja falsa"
   ]
  },
  {
   "cell_type": "markdown",
   "metadata": {},
   "source": [
    "Voltando ao exemplo da Amazon e do Iphone, agora nosso programa deve avisar nos dois casos:\n",
    "    \n",
    "        - Caso seja tenha batido a meta: \"Batemos a metya de vendas de iphone, vendemos {} unidades\"\n",
    "        - Caso não bateu a meta: \"Infelizmente não batemos a meta, vendemos {} uidades. A meta era de {} unidades\"\n",
    "            \n",
    "            "
   ]
  },
  {
   "cell_type": "code",
   "execution_count": 1,
   "metadata": {},
   "outputs": [
    {
     "name": "stdout",
     "output_type": "stream",
     "text": [
      "Infelizmente não batemos a meta, vendemos 20000 uidades. A meta era de 50000 unidades\n"
     ]
    }
   ],
   "source": [
    "metaVendas = 50000\n",
    "qtdVendida = 20000\n",
    "\n",
    "if qtdVendida > metaVendas:\n",
    "    print('Batemos a meta de vendas de iphone, vendemos {} unidades'.format(qtdVendida))\n",
    "else:\n",
    "    print('Infelizmente não batemos a meta, vendemos {} uidades. A meta era de {} unidades'.format(qtdVendida, metaVendas))\n",
    "\n"
   ]
  },
  {
   "cell_type": "code",
   "execution_count": null,
   "metadata": {},
   "outputs": [],
   "source": []
  },
  {
   "cell_type": "markdown",
   "metadata": {},
   "source": [
    "## Blocos e Identação\n",
    "\n",
    "## Estrututa\n",
    "\n",
    "\n",
    "Sempre que usamos o if ou qualquer outra estrutura no Python, devemos usar a identação para o Programa onde a estrutura começa e onde ela termina.\n",
    "\n",
    "Isso vai ajudar muito quando tivermos mais de 1 condição ao mesmo tempo e quando tivermos varias açoes para fazer dentro de um if\n",
    "\n",
    "\n",
    "### Várias ações em 1 if:"
   ]
  },
  {
   "cell_type": "code",
   "execution_count": null,
   "metadata": {},
   "outputs": [],
   "source": [
    "if condicao:\n",
    "    alguma coisa\n",
    "    outra coisa\n",
    "    outra coisa mais\n",
    "    outra coisa ainda mais\n",
    "else:\n",
    "    uma coisa\n",
    "    mais uma coisa\n",
    "    coisa final"
   ]
  },
  {
   "cell_type": "markdown",
   "metadata": {},
   "source": [
    "### Exemplo\n",
    "\n",
    "\n",
    "Vamos fazer um novo exemplo abaixo:\n",
    "    \n",
    "Digamos que você precisa criar um programa para um fundo de investimentos conseguir avaliar o resultado de uma carteira de ações\n",
    "e o quanto de taxa deverá ser pago\n",
    "\n",
    "\n",
    "A regra desse fundo de investimentos é:\n",
    "    \n",
    "    * O fundo se compromete a entregar no minimo 5% de retorno ao ano\n",
    "    * Caso o fundo não consiga entregar os 5% de retorno, ele não pode cobrar taxa dos seus investidores\n",
    "    * Caso o fundo consiga entregar mais de 5% de retorno, ele irá cobrar 2% de taxa dos seus investidores\n",
    "    * Caso o fundo consiga mais de 20% de retortno, ele irá cobrar 4% de taxa dos seus investidores."
   ]
  },
  {
   "cell_type": "markdown",
   "metadata": {},
   "source": [
    "retornoMinimo = 0.05\n",
    "retornoMes = 0.20\n",
    "\n",
    "if retornoMes >= retornoMinimo:\n",
    "    if retornoMes >= 0.20:\n",
    "        taxaMes = 0.04\n",
    "    else:\n",
    "        taxaMes = 0.02\n",
    "else:\n",
    "    taxaMes = 0.00\n",
    "\n",
    "\n",
    "print('A taxa foi de {}'.format(taxaMes))\n"
   ]
  },
  {
   "cell_type": "markdown",
   "metadata": {},
   "source": [
    "### Mais de uma condição ao mesmo tempo"
   ]
  },
  {
   "cell_type": "markdown",
   "metadata": {},
   "source": [
    "if condicao_1:\n",
    "    o que fazer se a condicao 1 for verdadeira\n",
    "    if condicao_2:\n",
    "        o que fazer se a condicao 1 e 2 for verdadeira\n",
    "    else:\n",
    "        o que fazer se a condicao 2 for falsa (mas a condicao 1 é verdadeira)\n",
    "else:\n",
    "    o que fazer se a condicao 1 for falsa"
   ]
  },
  {
   "cell_type": "markdown",
   "metadata": {},
   "source": [
    "### Cuidado importante: repeticao de código\n",
    "\n",
    "\"Se você esta repetindo um código, existe uma forma melhor de fazer\""
   ]
  },
  {
   "cell_type": "markdown",
   "metadata": {},
   "source": [
    "# ====================================="
   ]
  },
  {
   "cell_type": "markdown",
   "metadata": {},
   "source": [
    "# elif\n",
    "\n",
    "E se temos mais de um caso de sim e não?\n",
    "\n",
    "e se tivermos 3 casos?\n",
    "\n",
    "usamos elif da seguinte forma:"
   ]
  },
  {
   "cell_type": "markdown",
   "metadata": {},
   "source": [
    "if condicao:\n",
    "    o que fazer se a condicao 1 for verdadeira\n",
    "elif condicao_2:\n",
    "    o que fazer se a condicao 1 for falsa e a condicao 2 for verdadeira\n",
    "else:\n",
    "    o que fazer se a condicao 1 e 2 forem falsas"
   ]
  },
  {
   "cell_type": "markdown",
   "metadata": {},
   "source": [
    "### Exemplo:\n",
    "\n",
    "Vamos criar um programa para aanalisar o bonus dos funcionarios de uma empresa\n",
    "\n",
    "Para os cargos de vendedores, a regra do bonus é de acordo com a meta de vendas da pessoa\n",
    "\n",
    "Se ela vendeu abaixo da meta dela, ela não ganha bonus\n",
    "\n",
    "Se ela vendeu acima da meta dela, ela ganha bonus de 3% do valor que ela vendeu\n",
    "\n",
    "Se ela vendeu mais que o dobro da meta dela, ela ganha como bonus 7% do valor que ela venddeu\n",
    "\n",
    "\n",
    "Vamos avaliar uma pessoa que tinha como meta de vendas 20.000."
   ]
  },
  {
   "cell_type": "code",
   "execution_count": 38,
   "metadata": {},
   "outputs": [
    {
     "name": "stdout",
     "output_type": "stream",
     "text": [
      "Seu resultado nesse mês foi de 500000 em vendas, portanto seu bonus será de 35000.0\n"
     ]
    }
   ],
   "source": [
    "meta = 20000\n",
    "vendas = 500000\n",
    "\n",
    "\n",
    "if vendas < meta:\n",
    "    print('Não ganhou bonus')\n",
    "elif vendas > (meta * 2):\n",
    "    bonus = 0.07 * vendas\n",
    "    print('Seu resultado nesse mês foi de {} em vendas, portanto seu bonus será de {}'.format(vendas, bonus))\n",
    "else:\n",
    "    bonus = 0.03 * vendas\n",
    "    print('Seu resultado nesse mês foi de {} em vendas, portanto seu bonus será de {}'.format(vendas, bonus))"
   ]
  },
  {
   "cell_type": "markdown",
   "metadata": {},
   "source": [
    "# Comparadores\n"
   ]
  },
  {
   "cell_type": "markdown",
   "metadata": {},
   "source": [
    "== igual\n",
    "!= diferente\n",
    "> maior que\n",
    "< menor que\n",
    "in texto existe dentro de outro texto\n",
    "not verifica o contrario da comparacao\n",
    "\n",
    "Obs: Se em alguma condicao vc não quiser fazer nada, vc pode escrever; pass"
   ]
  },
  {
   "cell_type": "code",
   "execution_count": 39,
   "metadata": {},
   "outputs": [
    {
     "name": "stdout",
     "output_type": "stream",
     "text": [
      "Programa 1\n",
      "faturamentos diferentes\n"
     ]
    }
   ],
   "source": [
    "faturamento_loja1 = 2500\n",
    "faturamento_loja2 = 2200\n",
    "email = 'lucas@email.com'\n",
    "\n",
    "print('Programa 1')\n",
    "if faturamento_loja1 == faturamento_loja2:\n",
    "    print('faturamentos iguais')\n",
    "else:\n",
    "    print('faturamentos diferentes')"
   ]
  },
  {
   "cell_type": "code",
   "execution_count": 41,
   "metadata": {},
   "outputs": [
    {
     "name": "stdout",
     "output_type": "stream",
     "text": [
      "Programa 2\n",
      "Esse não seu email\n"
     ]
    }
   ],
   "source": [
    "print('Programa 2')\n",
    "if email != 'lucas@email.com.br':\n",
    "    print('Esse não seu email')\n",
    "else:\n",
    "    print('Esse é teu email')"
   ]
  },
  {
   "cell_type": "code",
   "execution_count": 44,
   "metadata": {},
   "outputs": [
    {
     "name": "stdout",
     "output_type": "stream",
     "text": [
      "Programa 3\n",
      "digite seu email: ssssssss\n",
      "email invalido\n"
     ]
    }
   ],
   "source": [
    "print('Programa 3')\n",
    "emailUser = input('digite seu email: ')\n",
    "if not '@' in emailUser:\n",
    "    print('email invalido')\n",
    "else:\n",
    "    pass"
   ]
  },
  {
   "cell_type": "code",
   "execution_count": null,
   "metadata": {},
   "outputs": [],
   "source": []
  },
  {
   "cell_type": "markdown",
   "metadata": {},
   "source": [
    "## Comparações Contraintuitivas"
   ]
  },
  {
   "cell_type": "markdown",
   "metadata": {},
   "source": [
    "Existem algumas comparaçoes no Python que não são tão intuitivas quando vimos pelas primeira vez, mas que são muito usadas, principalmente por programadores mais experientes.\n",
    "\n",
    "É bom sabermos alguns exemplos e buscar sempre entender o que aquela comparação está buscando verificar.\n",
    "\n",
    "### Exemplo 1:\n",
    "\n",
    "Digamos que você está construindo um sistema de controle de vendas e precisa de algumas\n",
    "informações para fazer o calculo do resultado da loja no fim de um mês."
   ]
  },
  {
   "cell_type": "code",
   "execution_count": 4,
   "metadata": {},
   "outputs": [
    {
     "name": "stdout",
     "output_type": "stream",
     "text": [
      "Qual foi o faturamento da loja nesse mês?50\n",
      "Qual foi o custo da loja nesse mês?\n",
      "Verificar valores informados em faturamento e custo\n"
     ]
    }
   ],
   "source": [
    "faturamento = input('Qual foi o faturamento da loja nesse mês?')\n",
    "custo = input('Qual foi o custo da loja nesse mês?')\n",
    "\n",
    "if faturamento and custo:\n",
    "    lucro = int(faturamento) - int(custo)\n",
    "    print('O lucro da loja foi de {} reais'.format(lucro))\n",
    "else:\n",
    "\n",
    "    print('Verificar valores informados em faturamento e custo')\n"
   ]
  },
  {
   "cell_type": "markdown",
   "metadata": {},
   "source": [
    "No caso acima ele está verificando se os campos de faturamento e custo foram preenchidos\n",
    "caso foram, executa a funcao corretamente, caso não esteja, informa para o usuario\n",
    "preencher de forma correta."
   ]
  },
  {
   "cell_type": "markdown",
   "metadata": {},
   "source": [
    "### Resumo\n",
    "\n",
    "Algumas comparações contraintuitivas muito usadas:\n",
    "    \n",
    "if 0:\n",
    "    \n",
    "if '':\n",
    "        \n",
    "Temos outras também, mas que são utilizadas para verificar listas vazias, objetos vazios e assim vai.\n",
    "Quando chegarmos nesses vamos relembrar o conceito, mas o importante é saber dessa possibilidade\n",
    "e entender seu uso.\n",
    "        \n",
    "    "
   ]
  }
 ],
 "metadata": {
  "kernelspec": {
   "display_name": "Python 3",
   "language": "python",
   "name": "python3"
  },
  "language_info": {
   "codemirror_mode": {
    "name": "ipython",
    "version": 3
   },
   "file_extension": ".py",
   "mimetype": "text/x-python",
   "name": "python",
   "nbconvert_exporter": "python",
   "pygments_lexer": "ipython3",
   "version": "3.8.5"
  }
 },
 "nbformat": 4,
 "nbformat_minor": 4
}
