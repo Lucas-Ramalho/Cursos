{
 "cells": [
  {
   "cell_type": "markdown",
   "metadata": {},
   "source": [
    "# Integração Python com Outlook\n",
    "\n",
    "### Funciona para qualquer e-mail: corporativo, gmail, hotmail, etc.\n",
    "\n",
    "- Passo 1: Importar win32 e inicializar o outlook"
   ]
  },
  {
   "cell_type": "code",
   "execution_count": 1,
   "metadata": {},
   "outputs": [],
   "source": [
    "import win32com.client as win32\n",
    "outlook = win32.Dispatch('outlook.application')"
   ]
  },
  {
   "cell_type": "markdown",
   "metadata": {},
   "source": [
    "- Passo 2: Escrever o e-mail e disparar"
   ]
  },
  {
   "cell_type": "code",
   "execution_count": 2,
   "metadata": {},
   "outputs": [],
   "source": [
    "mail = outlook.CreateItem(0)\n",
    "mail.To = 'lucasramalhon18@gmail.com'\n",
    "mail.CC = 'lucasramalho.rdash@gmail.com'\n",
    "mail.BCC = 'lucasramalhon@yahoo.com.br'\n",
    "mail.Subject = 'Email vindo do Outlook - Hastag'\n",
    "mail.Body = 'Texto do E-mail'\n",
    "#ou mail.HTMLBody = '<p>Corpo do Email em HTML</p>'\n",
    "\n",
    "# Anexos (pode colocar quantos quiser):\n",
    "attachment  = r'C:\\Users\\lucas\\Desktop\\hashtag\\pythonHashtag\\Docs Python\\Integracao Python com arquivos\\Email\\Financeiro.xlsx'\n",
    "mail.Attachments.Add(attachment)\n",
    "\n",
    "mail.Send()"
   ]
  }
 ],
 "metadata": {
  "kernelspec": {
   "display_name": "Python 3",
   "language": "python",
   "name": "python3"
  },
  "language_info": {
   "codemirror_mode": {
    "name": "ipython",
    "version": 3
   },
   "file_extension": ".py",
   "mimetype": "text/x-python",
   "name": "python",
   "nbconvert_exporter": "python",
   "pygments_lexer": "ipython3",
   "version": "3.8.5"
  }
 },
 "nbformat": 4,
 "nbformat_minor": 4
}
