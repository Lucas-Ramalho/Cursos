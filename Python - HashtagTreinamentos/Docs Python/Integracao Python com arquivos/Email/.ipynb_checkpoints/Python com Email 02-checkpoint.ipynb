{
 "cells": [
  {
   "cell_type": "markdown",
   "metadata": {},
   "source": [
    "# Integração Python com Gmail - Usando yagmail\n",
    "\n",
    "### 2 métodos principais\n",
    "\n",
    "- yagmail.smtp"
   ]
  },
  {
   "cell_type": "raw",
   "metadata": {},
   "source": [
    "usuario = yagmail.SMTP(user='usuario@gmail.com', password='senha')"
   ]
  },
  {
   "cell_type": "markdown",
   "metadata": {},
   "source": [
    "- .send"
   ]
  },
  {
   "cell_type": "raw",
   "metadata": {},
   "source": [
    "usuario.send(to='destinatario', subject='assunto', contents='conteúdo do email')"
   ]
  },
  {
   "cell_type": "markdown",
   "metadata": {},
   "source": [
    "### Enviando E-mail"
   ]
  },
  {
   "cell_type": "code",
   "execution_count": 1,
   "metadata": {},
   "outputs": [
    {
     "data": {
      "text/plain": [
       "{}"
      ]
     },
     "execution_count": 1,
     "metadata": {},
     "output_type": "execute_result"
    }
   ],
   "source": [
    "import yagmail\n",
    "\n",
    "usuario = yagmail.SMTP(user='lucasramalho.rdash@gmail.com', password='Teste123*')\n",
    "usuario.send(to='lucasramalhon18@gmail.com', subject='Meu primeiro Email no Python', contents='Fala ai Lucas, meu primeiro e-mail')\n",
    "\n"
   ]
  },
  {
   "cell_type": "markdown",
   "metadata": {},
   "source": [
    "### Enviando E-mail com Anexo(s)"
   ]
  },
  {
   "cell_type": "code",
   "execution_count": 2,
   "metadata": {},
   "outputs": [
    {
     "data": {
      "text/plain": [
       "{}"
      ]
     },
     "execution_count": 2,
     "metadata": {},
     "output_type": "execute_result"
    }
   ],
   "source": [
    "usuario.send(to='lucasramalhon18@gmail.com', subject='Relatório Financeiro', \\\n",
    "             contents='Fala ai Lucas,\\n Segue anexo relatorio financeiro\\n Att\\n Lucas', attachments='Financeiro.xlsx')\n"
   ]
  },
  {
   "cell_type": "markdown",
   "metadata": {},
   "source": [
    "### Cópia, mais de 1 destinatário e outras variações"
   ]
  },
  {
   "cell_type": "code",
   "execution_count": 4,
   "metadata": {},
   "outputs": [
    {
     "data": {
      "text/plain": [
       "{}"
      ]
     },
     "execution_count": 4,
     "metadata": {},
     "output_type": "execute_result"
    }
   ],
   "source": [
    "usuario.send(to=['lucasramalhon18@gmail.com', 'lucasramalhon@yahoo.com.br'],cc='lucasramalhon@yahoo.com.br', subject='Relatório Financeiro', \\\n",
    "             contents='Fala ai Lucas,\\n Segue anexo relatorio financeiro\\n Att\\n Lucas', attachments='Financeiro.xlsx')\n",
    "\n"
   ]
  },
  {
   "cell_type": "markdown",
   "metadata": {},
   "source": [
    "### Personalizando o texto do e-mail\n",
    "\n",
    "- Com Python normal"
   ]
  },
  {
   "cell_type": "code",
   "execution_count": 6,
   "metadata": {},
   "outputs": [
    {
     "data": {
      "text/plain": [
       "{}"
      ]
     },
     "execution_count": 6,
     "metadata": {},
     "output_type": "execute_result"
    }
   ],
   "source": [
    "# primeira forma: -> Lista de Frases\n",
    "corpo_email = [\n",
    "    'Boa tarde!',\n",
    "    'Segue segundo e-mail sendo enviado',\n",
    "    'Atenciosamente',\n",
    "    'Lucas Ramalho'\n",
    "]\n",
    "\n",
    "corpo_email = '\\n'.join(corpo_email)\n",
    "\n",
    "\n",
    "# segunda forma: -> string de varias linhas\n",
    "\n",
    "corpo_email2 = \"\"\"\n",
    "Boa tarde, tudo bem?\n",
    "Segue e-mail sendo enviado pelo metodo de string\n",
    "Atenciosamente\n",
    "Lucas Ramalho\n",
    "\"\"\"\n",
    "\n",
    "\n",
    "usuario.send(to='lucasramalhon18@gmail.com', subject='Meu segundo Email no Python', contents=corpo_email2)"
   ]
  },
  {
   "cell_type": "markdown",
   "metadata": {},
   "source": [
    "- Com HTML"
   ]
  },
  {
   "cell_type": "code",
   "execution_count": 7,
   "metadata": {},
   "outputs": [
    {
     "data": {
      "text/plain": [
       "{}"
      ]
     },
     "execution_count": 7,
     "metadata": {},
     "output_type": "execute_result"
    }
   ],
   "source": [
    "corpo_texto_html = \"\"\"\n",
    "<h1> Boa tarde </h1>\n",
    "<p> Segue novo e-mail, com escrito com html</p>\n",
    "<p> Atenciosamente </p>\n",
    "<p>  <b>Lucas Ramalho </b></p>\n",
    "\"\"\"\n",
    "\n",
    "\n",
    "usuario.send(to='lucasramalhon18@gmail.com', subject='Meu segundo Email no Python', contents=corpo_texto_html)"
   ]
  }
 ],
 "metadata": {
  "kernelspec": {
   "display_name": "Python 3",
   "language": "python",
   "name": "python3"
  },
  "language_info": {
   "codemirror_mode": {
    "name": "ipython",
    "version": 3
   },
   "file_extension": ".py",
   "mimetype": "text/x-python",
   "name": "python",
   "nbconvert_exporter": "python",
   "pygments_lexer": "ipython3",
   "version": "3.8.5"
  }
 },
 "nbformat": 4,
 "nbformat_minor": 4
}
