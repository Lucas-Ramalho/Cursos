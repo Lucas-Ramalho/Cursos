{
 "cells": [
  {
   "cell_type": "code",
   "execution_count": 9,
   "metadata": {},
   "outputs": [],
   "source": [
    "from imap_tools import MailBox, AND, OR, NOT\n",
    "\n",
    "# pegar emails de um remetente para um destinatário\n",
    "username = \"lucasramalho.rdash@gmail.com\"\n",
    "password = \"Teste123*\"\n",
    "\n",
    "# lista de imaps: https://www.systoolsgroup.com/imap/\n",
    "meu_email = MailBox('imap.gmail.com').login(username, password)\n",
    "\n"
   ]
  },
  {
   "cell_type": "code",
   "execution_count": 10,
   "metadata": {},
   "outputs": [
    {
     "name": "stdout",
     "output_type": "stream",
     "text": [
      "ENC: Relatório de Vendas\n",
      "\n",
      "\n",
      "De: Lucas Ramalho\n",
      "Enviada em: terça-feira, 7 de dezembro de 2021 09:13\n",
      "Para: lucasramalho.rdash+1@gmail.com\n",
      "Assunto: Relatório de Vendas\n",
      "\n",
      "\n",
      "\n",
      "    Prezado Lira,\n",
      "    Segue em anexo o Relatório de Vendas, conforme solicitado.\n",
      "    Qualquer dúvida estou à disposição.\n",
      "    Att.,\n",
      "\n",
      "\n",
      "ENC: Relatório de Produção\n",
      "\n",
      "\n",
      "De: Lucas Ramalho\n",
      "Enviada em: terça-feira, 7 de dezembro de 2021 09:13\n",
      "Para: lucasramalho.rdash+2@gmail.com\n",
      "Assunto: Relatório de Produção\n",
      "\n",
      "\n",
      "\n",
      "    Prezado Julia,\n",
      "    Segue em anexo o Relatório de Produção, conforme solicitado.\n",
      "    Qualquer dúvida estou à disposição.\n",
      "    Att.,\n",
      "\n",
      "\n",
      "ENC: Relatório de Manutenção\n",
      "\n",
      "\n",
      "De: Lucas Ramalho\n",
      "Enviada em: terça-feira, 7 de dezembro de 2021 09:13\n",
      "Para: lucasramalho.rdash+3@gmail.com\n",
      "Assunto: Relatório de Manutenção\n",
      "\n",
      "\n",
      "\n",
      "    Prezado José,\n",
      "    Segue em anexo o Relatório de Manutenção, conforme solicitado.\n",
      "    Qualquer dúvida estou à disposição.\n",
      "    Att.,\n",
      "\n",
      "\n",
      "relatorio excel\n",
      "Segue relatório excel\n",
      "\n"
     ]
    }
   ],
   "source": [
    "# criterios: https://github.com/ikvk/imap_tools#search-criteria\n",
    "lista_emails = meu_email.fetch(AND(from_=\"lucas_ramalhon@hotmail.com\")) \n",
    "# print(len(list(lista_emails)))\n",
    "for email in lista_emails:\n",
    "    print(email.subject)\n",
    "    print(email.text)\n"
   ]
  },
  {
   "cell_type": "code",
   "execution_count": 11,
   "metadata": {},
   "outputs": [],
   "source": [
    "# pegar emails com um anexo específico\n",
    "lista_emails = meu_email.fetch(AND(from_=\"lucas_ramalhon@hotmail.com\"))\n",
    "for email in lista_emails:\n",
    "    if len(email.attachments) > 0:\n",
    "        for anexo in email.attachments:\n",
    "            if \"RelatorioExcel\" in anexo.filename:\n",
    "                informacoes_anexo = anexo.payload\n",
    "#                 print(anexo.content_type)\n",
    "#                 print(anexo.payload)\n",
    "                with open(\"Teste.xlsx\", 'wb') as arquivo_excel:\n",
    "                    arquivo_excel.write(anexo.payload)\n"
   ]
  },
  {
   "cell_type": "code",
   "execution_count": null,
   "metadata": {},
   "outputs": [],
   "source": []
  }
 ],
 "metadata": {
  "kernelspec": {
   "display_name": "Python 3",
   "language": "python",
   "name": "python3"
  },
  "language_info": {
   "codemirror_mode": {
    "name": "ipython",
    "version": 3
   },
   "file_extension": ".py",
   "mimetype": "text/x-python",
   "name": "python",
   "nbconvert_exporter": "python",
   "pygments_lexer": "ipython3",
   "version": "3.8.5"
  }
 },
 "nbformat": 4,
 "nbformat_minor": 5
}
