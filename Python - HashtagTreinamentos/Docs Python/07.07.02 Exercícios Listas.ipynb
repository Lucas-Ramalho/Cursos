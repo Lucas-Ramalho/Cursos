{
 "cells": [
  {
   "cell_type": "markdown",
   "metadata": {},
   "source": [
    "# Exercícios\n",
    "\n",
    "## 1. Faturamento do Melhor e do Pior Mês do Ano\n",
    "\n",
    "Qual foi o valor de vendas do melhor mês do Ano?\n",
    "E valor do pior mês do ano?"
   ]
  },
  {
   "cell_type": "code",
   "execution_count": 7,
   "metadata": {},
   "outputs": [
    {
     "name": "stdout",
     "output_type": "stream",
     "text": [
      "[25000, 29000, 22200, 17750, 15870, 19900, 19850, 20120, 17540, 15555, 49051, 9650]\n",
      "O melhor mês do ano foi nov, com 49051 em vendas\n",
      "O pior mês do ano foi dez, com 9650 em vendas\n"
     ]
    }
   ],
   "source": [
    "meses = ['jan', 'fev', 'mar', 'abr', 'mai', 'jun', 'jul', 'ago', 'set', 'out', 'nov', 'dez']\n",
    "vendas_1sem = [25000, 29000, 22200, 17750, 15870, 19900]\n",
    "vendas_2sem = [19850, 20120, 17540, 15555, 49051, 9650]\n",
    "\n",
    "vendas_ano = vendas_1sem + vendas_2sem\n",
    "print(vendas_ano)\n",
    "\n",
    "maxVenda = max(vendas_ano)\n",
    "i = vendas_ano.index(maxVenda)\n",
    "melhorMes = meses[i]\n",
    "print('O melhor mês do ano foi {}, com {} em vendas'.format(melhorMes, maxVenda))\n",
    "\n",
    "minVenda = min(vendas_ano)\n",
    "i = vendas_ano.index(minVenda)\n",
    "piorMes = meses[i]\n",
    "print('O pior mês do ano foi {}, com {} em vendas'.format(piorMes, minVenda))\n"
   ]
  },
  {
   "cell_type": "markdown",
   "metadata": {},
   "source": [
    "## 2. Continuação\n",
    "\n",
    "Agora relacione as duas listas para printar 'O melhor mês do ano foi {} com {} vendas' e o mesmo para o pior mês do ano.\n",
    "\n",
    "Calcule também o faturamento total do Ano e quanto que o melhor mês representou do faturamento total.\n",
    "\n",
    "Obs: Para o faturamento total, pode usar a função sum(lista) que soma todos os itens de uma lista"
   ]
  },
  {
   "cell_type": "code",
   "execution_count": 26,
   "metadata": {},
   "outputs": [
    {
     "name": "stdout",
     "output_type": "stream",
     "text": [
      "O faturamento do ano foi de R$ 261.486,00, onde o mês de novembro representou 18,76%, desse total\n"
     ]
    }
   ],
   "source": [
    "faturamentoAno = sum(vendas_ano)\n",
    "represent = (maxVenda / faturamentoAno)\n",
    "\n",
    "texto = ('O faturamento do ano foi de R$ {:_.2f}, onde o mês de novembro representou {:.2%}, desse total'.format(faturamentoAno, represent))\n",
    "\n",
    "print(texto.replace('.',',').replace('_', '.'))"
   ]
  },
  {
   "cell_type": "markdown",
   "metadata": {},
   "source": [
    "## 3. Crie uma lista com o top 3 valores de vendas do ano (sem fazer \"no olho\")\n",
    "\n",
    "Dica: o método remove retira um item da lista."
   ]
  },
  {
   "cell_type": "code",
   "execution_count": 27,
   "metadata": {},
   "outputs": [
    {
     "name": "stdout",
     "output_type": "stream",
     "text": [
      "[49051, 29000, 25000, 22200, 20120, 19900, 19850, 17750, 17540, 15870, 15555, 9650]\n",
      "[49051, 29000, 25000]\n"
     ]
    }
   ],
   "source": [
    "top3 = []\n",
    "\n",
    "vendas_ano.sort(reverse = True)\n",
    "print(vendas_ano)\n",
    "\n",
    "top3 = vendas_ano[:3]\n",
    "print(top3)\n",
    "\n",
    "\n",
    "\n"
   ]
  },
  {
   "cell_type": "code",
   "execution_count": 35,
   "metadata": {},
   "outputs": [
    {
     "name": "stdout",
     "output_type": "stream",
     "text": [
      "[49051, 29000, 25000]\n"
     ]
    }
   ],
   "source": [
    "\n",
    "top3 = []\n",
    "\n",
    "vendas_1sem = [25000, 29000, 22200, 17750, 15870, 19900]\n",
    "vendas_2sem = [19850, 20120, 17540, 15555, 49051, 9650]\n",
    "\n",
    "vendas_ano = vendas_1sem + vendas_2sem\n",
    "\n",
    "\n",
    "\n",
    "#### -----------------------------------------\n",
    "\n",
    "maior_valor = max(vendas_ano)\n",
    "top3.append(maior_valor)\n",
    "vendas_ano.remove(maior_valor)\n",
    "\n",
    "maior_valor = max(vendas_ano)\n",
    "top3.append(maior_valor)\n",
    "vendas_ano.remove(maior_valor)\n",
    "\n",
    "maior_valor = max(vendas_ano)\n",
    "top3.append(maior_valor)\n",
    "vendas_ano.remove(maior_valor)\n",
    "\n",
    "\n",
    "print(top3)"
   ]
  },
  {
   "cell_type": "code",
   "execution_count": 34,
   "metadata": {},
   "outputs": [
    {
     "name": "stdout",
     "output_type": "stream",
     "text": [
      "[49051, 29000, 25000]\n"
     ]
    }
   ],
   "source": [
    "\n",
    "top3 = []\n",
    "\n",
    "vendas_1sem = [25000, 29000, 22200, 17750, 15870, 19900]\n",
    "vendas_2sem = [19850, 20120, 17540, 15555, 49051, 9650]\n",
    "\n",
    "vendas_ano = vendas_1sem + vendas_2sem\n",
    "\n",
    "\n",
    "\n",
    "#### -----------------------------------------\n",
    "\n",
    "vendas_ano.sort(reverse=True)\n",
    "top3.append(vendas_ano.pop(0))\n",
    "top3.append(vendas_ano.pop(0))\n",
    "top3.append(vendas_ano.pop(0))\n",
    "print(top3)"
   ]
  },
  {
   "cell_type": "code",
   "execution_count": null,
   "metadata": {},
   "outputs": [],
   "source": []
  }
 ],
 "metadata": {
  "kernelspec": {
   "display_name": "Python 3",
   "language": "python",
   "name": "python3"
  },
  "language_info": {
   "codemirror_mode": {
    "name": "ipython",
    "version": 3
   },
   "file_extension": ".py",
   "mimetype": "text/x-python",
   "name": "python",
   "nbconvert_exporter": "python",
   "pygments_lexer": "ipython3",
   "version": "3.8.5"
  }
 },
 "nbformat": 4,
 "nbformat_minor": 4
}
