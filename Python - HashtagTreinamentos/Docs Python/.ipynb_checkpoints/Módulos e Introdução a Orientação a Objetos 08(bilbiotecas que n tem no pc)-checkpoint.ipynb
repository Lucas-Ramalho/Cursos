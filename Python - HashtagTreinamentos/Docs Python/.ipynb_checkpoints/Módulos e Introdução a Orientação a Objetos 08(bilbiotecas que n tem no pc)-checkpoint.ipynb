{
 "cells": [
  {
   "cell_type": "markdown",
   "metadata": {},
   "source": [
    "# Como instalar um Módulo/Biblioteca que não tenha no seu computador\n",
    "\n",
    "### Estrutura:\n",
    "\n",
    "- Usaremos o \"pip\" para isso. É um gerenciador de módulos/pacotes/bibliotecas que ajuda a gente a instalar, atualizar, desinstalar novos módulos\n",
    "- Não precisa dominar pip, apenas os comandos que vamos usar aqui mesmo\n",
    "\n",
    "Passo 1: Abrir o Prompt do Anaconda<br>\n",
    "Passo 2: Instalar com o pip os pacotes que quiser<br>\n",
    "Passo 3: Reiniciar o Jupyter (nem sempre necessário, mas na dúvida é melhor fazer)<br>"
   ]
  },
  {
   "cell_type": "code",
   "execution_count": 1,
   "metadata": {},
   "outputs": [
    {
     "ename": "ModuleNotFoundError",
     "evalue": "No module named 'keyboard'",
     "output_type": "error",
     "traceback": [
      "\u001b[1;31m---------------------------------------------------------------------------\u001b[0m",
      "\u001b[1;31mModuleNotFoundError\u001b[0m                       Traceback (most recent call last)",
      "\u001b[1;32m<ipython-input-1-1ae42fbe20b0>\u001b[0m in \u001b[0;36m<module>\u001b[1;34m\u001b[0m\n\u001b[1;32m----> 1\u001b[1;33m \u001b[1;32mimport\u001b[0m \u001b[0mkeyboard\u001b[0m\u001b[1;33m\u001b[0m\u001b[1;33m\u001b[0m\u001b[0m\n\u001b[0m\u001b[0;32m      2\u001b[0m \u001b[1;33m\u001b[0m\u001b[0m\n\u001b[0;32m      3\u001b[0m \u001b[0mkeyboard\u001b[0m\u001b[1;33m.\u001b[0m\u001b[0mpress_and_release\u001b[0m\u001b[1;33m(\u001b[0m\u001b[1;34m'ctrl+t'\u001b[0m\u001b[1;33m)\u001b[0m\u001b[1;33m\u001b[0m\u001b[1;33m\u001b[0m\u001b[0m\n\u001b[0;32m      4\u001b[0m \u001b[1;33m\u001b[0m\u001b[0m\n\u001b[0;32m      5\u001b[0m \u001b[0mkeyboard\u001b[0m\u001b[1;33m.\u001b[0m\u001b[0mwrite\u001b[0m\u001b[1;33m(\u001b[0m\u001b[1;34m'hashtagtreinamentos.com'\u001b[0m\u001b[1;33m)\u001b[0m\u001b[1;33m\u001b[0m\u001b[1;33m\u001b[0m\u001b[0m\n",
      "\u001b[1;31mModuleNotFoundError\u001b[0m: No module named 'keyboard'"
     ]
    }
   ],
   "source": [
    "import keyboard\n",
    "\n",
    "keyboard.press_and_release('ctrl+t')\n",
    "\n",
    "keyboard.write('hashtagtreinamentos.com')\n",
    "\n",
    "keyboard.press_and_release('enter')"
   ]
  }
 ],
 "metadata": {
  "kernelspec": {
   "display_name": "Python 3",
   "language": "python",
   "name": "python3"
  },
  "language_info": {
   "codemirror_mode": {
    "name": "ipython",
    "version": 3
   },
   "file_extension": ".py",
   "mimetype": "text/x-python",
   "name": "python",
   "nbconvert_exporter": "python",
   "pygments_lexer": "ipython3",
   "version": "3.8.5"
  }
 },
 "nbformat": 4,
 "nbformat_minor": 4
}
