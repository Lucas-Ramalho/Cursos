{
 "cells": [
  {
   "cell_type": "markdown",
   "metadata": {},
   "source": [
    "## Estrutura de Repeticao: for\n",
    "\n",
    "### Funcionamento:"
   ]
  },
  {
   "cell_type": "raw",
   "metadata": {},
   "source": [
    "for i in range(n):\n",
    "    repetir código n vezes"
   ]
  },
  {
   "cell_type": "code",
   "execution_count": 4,
   "metadata": {},
   "outputs": [
    {
     "name": "stdout",
     "output_type": "stream",
     "text": [
      "0\n",
      "Lucas\n",
      "1\n",
      "Lucas\n",
      "2\n",
      "Lucas\n",
      "3\n",
      "Lucas\n",
      "4\n",
      "Lucas\n"
     ]
    }
   ],
   "source": [
    "for i in range(5):\n",
    "    print(i)\n",
    "    print('Lucas')"
   ]
  },
  {
   "cell_type": "markdown",
   "metadata": {},
   "source": [
    "- imagine que voce esta construindo uma automacao para enviar todo dia por e-mail um resumo da producao de uma fabrica. Construa um código que exiba a quantidade produzida de cada produto nesses \"email\""
   ]
  },
  {
   "cell_type": "code",
   "execution_count": 12,
   "metadata": {},
   "outputs": [],
   "source": [
    "produtos = ['coca', 'pepsi', 'guarana', 'sprite', 'fanta']\n",
    "producao = [15000, 12000, 13000, 5000, 250]"
   ]
  },
  {
   "cell_type": "code",
   "execution_count": 13,
   "metadata": {},
   "outputs": [
    {
     "name": "stdout",
     "output_type": "stream",
     "text": [
      "15000 unidades produzidas de coca\n",
      "12000 unidades produzidas de pepsi\n",
      "13000 unidades produzidas de guarana\n",
      "5000 unidades produzidas de sprite\n",
      "250 unidades produzidas de fanta\n"
     ]
    }
   ],
   "source": [
    "tamanho = len(produtos)\n",
    "\n",
    "for i in range(tamanho):\n",
    "    print('{} unidades produzidas de {}'.format(producao[i], produtos[i]))"
   ]
  },
  {
   "cell_type": "markdown",
   "metadata": {},
   "source": [
    "## For \"each\"\n",
    "\n",
    "### Estrutura:\n",
    "\n",
    "O for no Python consegue percorrer uma lista e cada \"loop\" retornar o valor do item"
   ]
  },
  {
   "cell_type": "raw",
   "metadata": {},
   "source": [
    "for i in range(5):\n",
    "    print(i)\n",
    "    \n",
    "range(5) é na verdade uma lista do tipo: [0, 1, 2, 3, 4]"
   ]
  },
  {
   "cell_type": "markdown",
   "metadata": {},
   "source": [
    "### Usando para listas"
   ]
  },
  {
   "cell_type": "raw",
   "metadata": {},
   "source": [
    "for item in lista:\n",
    "    print(item)\n",
    "\n",
    "ou entao para string:\n",
    "    \n",
    "for ch in texto:\n",
    "    print(ch)"
   ]
  },
  {
   "cell_type": "code",
   "execution_count": 14,
   "metadata": {},
   "outputs": [],
   "source": [
    "produtos = ['coca', 'pepsi', 'guarana', 'sprite', 'fanta']\n",
    "texto = 'lira@gmail.com'"
   ]
  },
  {
   "cell_type": "code",
   "execution_count": 16,
   "metadata": {
    "scrolled": true
   },
   "outputs": [
    {
     "name": "stdout",
     "output_type": "stream",
     "text": [
      "coca\n",
      "pepsi\n",
      "guarana\n",
      "sprite\n",
      "fanta\n"
     ]
    }
   ],
   "source": [
    "for i in range(5):\n",
    "    print(produtos[i])"
   ]
  },
  {
   "cell_type": "code",
   "execution_count": 20,
   "metadata": {
    "scrolled": true
   },
   "outputs": [
    {
     "name": "stdout",
     "output_type": "stream",
     "text": [
      "O produto é coca\n",
      "O produto é pepsi\n",
      "O produto é guarana\n",
      "O produto é sprite\n",
      "O produto é fanta\n"
     ]
    }
   ],
   "source": [
    "for produto in produtos:\n",
    "    print('O produto é {}'.format(produto))"
   ]
  },
  {
   "cell_type": "code",
   "execution_count": 21,
   "metadata": {},
   "outputs": [
    {
     "name": "stdout",
     "output_type": "stream",
     "text": [
      "l\n",
      "i\n",
      "r\n",
      "a\n",
      "@\n",
      "g\n",
      "m\n",
      "a\n",
      "i\n",
      "l\n",
      ".\n",
      "c\n",
      "o\n",
      "m\n"
     ]
    }
   ],
   "source": [
    "for ch in texto:\n",
    "    print(ch)"
   ]
  },
  {
   "cell_type": "markdown",
   "metadata": {},
   "source": [
    "## For + if"
   ]
  },
  {
   "cell_type": "raw",
   "metadata": {},
   "source": [
    "for item in lista:\n",
    "    if condicao:\n",
    "        faca alguma coisa\n",
    "    else:\n",
    "        outra coisa"
   ]
  },
  {
   "cell_type": "markdown",
   "metadata": {},
   "source": [
    "Digamos que a gente esteja analisando a meta de vendas de varios funcionarios de uma empres. a meta de vendas é de 1000 reais em 1 dia.\n",
    "\n",
    "Temos uma lista com as vendas de todos os funcionarios e quero calcular qual o % de pessoas que bateram a meta."
   ]
  },
  {
   "cell_type": "code",
   "execution_count": 29,
   "metadata": {},
   "outputs": [],
   "source": [
    "vendas = [1200, 300, 800,1500, 1900, 2750, 400, 20, 23, 70, 90, 80, 1100, 999, 900, 880, 870, 50, 1111, 120, 300, 450, 800]\n",
    "meta = 1000"
   ]
  },
  {
   "cell_type": "code",
   "execution_count": 30,
   "metadata": {},
   "outputs": [
    {
     "name": "stdout",
     "output_type": "stream",
     "text": [
      "1200\n",
      "1500\n",
      "1900\n",
      "2750\n",
      "1100\n",
      "1111\n"
     ]
    }
   ],
   "source": [
    "for venda in vendas:\n",
    "    if venda >= meta:\n",
    "        print(venda)"
   ]
  },
  {
   "cell_type": "code",
   "execution_count": 38,
   "metadata": {},
   "outputs": [
    {
     "name": "stdout",
     "output_type": "stream",
     "text": [
      "O percentual de pessoas que bateram a meta foi de 26.09% que equivalem a 6 funcionarios\n"
     ]
    }
   ],
   "source": [
    "contador_bateu_meta = 0\n",
    "\n",
    "for venda in vendas:\n",
    "    if venda >= meta:\n",
    "        contador_bateu_meta += 1\n",
    "\n",
    "qtd_funcionario = (len(vendas))\n",
    "\n",
    "print('O percentual de pessoas que bateram a meta foi de {:.2%} que equivalem a {} funcionarios'.format(contador_bateu_meta / qtd_funcionario, contador_bateu_meta))"
   ]
  },
  {
   "cell_type": "markdown",
   "metadata": {},
   "source": [
    "## Enumerate\n",
    "\n",
    "### Estrutura:\n",
    "\n",
    "O enumerate permite que voce percorra uma lista e ao mesmo tempo tenha em uma variavel o indece daquele item.\n",
    "\n",
    " - for normalmente"
   ]
  },
  {
   "cell_type": "raw",
   "metadata": {},
   "source": [
    "for item in lista:\n",
    "    resto do codigo"
   ]
  },
  {
   "cell_type": "code",
   "execution_count": 39,
   "metadata": {},
   "outputs": [
    {
     "name": "stdout",
     "output_type": "stream",
     "text": [
      "Maria\n",
      "Jose\n",
      "Antonio\n",
      "Joao\n",
      "Francisca\n",
      "Ana\n",
      "Luiz\n",
      "Paulo\n",
      "Carlos\n",
      "Manoel\n",
      "Pedro\n",
      "Francisco\n"
     ]
    }
   ],
   "source": [
    "funcionarios = ['Maria', 'Jose', 'Antonio', 'Joao', 'Francisca', 'Ana', 'Luiz', 'Paulo', 'Carlos', 'Manoel', 'Pedro', 'Francisco']\n",
    "\n",
    "for funcionario in funcionarios:\n",
    "    print(funcionario)"
   ]
  },
  {
   "cell_type": "code",
   "execution_count": null,
   "metadata": {},
   "outputs": [],
   "source": []
  },
  {
   "cell_type": "raw",
   "metadata": {},
   "source": [
    "for i, item in enumerate(lista):\n",
    "    resto do codigo"
   ]
  },
  {
   "cell_type": "code",
   "execution_count": 40,
   "metadata": {},
   "outputs": [
    {
     "name": "stdout",
     "output_type": "stream",
     "text": [
      "0 é o funcionario Maria\n",
      "1 é o funcionario Jose\n",
      "2 é o funcionario Antonio\n",
      "3 é o funcionario Joao\n",
      "4 é o funcionario Francisca\n",
      "5 é o funcionario Ana\n",
      "6 é o funcionario Luiz\n",
      "7 é o funcionario Paulo\n",
      "8 é o funcionario Carlos\n",
      "9 é o funcionario Manoel\n",
      "10 é o funcionario Pedro\n",
      "11 é o funcionario Francisco\n"
     ]
    }
   ],
   "source": [
    "funcionarios = ['Maria', 'Jose', 'Antonio', 'Joao', 'Francisca', 'Ana', 'Luiz', 'Paulo', 'Carlos', 'Manoel', 'Pedro', 'Francisco']\n",
    "\n",
    "for i, funcionario in enumerate(funcionarios):\n",
    "    print('{} é o funcionario {}'.format(i, funcionario))"
   ]
  },
  {
   "cell_type": "code",
   "execution_count": null,
   "metadata": {},
   "outputs": [],
   "source": []
  },
  {
   "cell_type": "markdown",
   "metadata": {},
   "source": [
    "### Exemplo prático\n",
    "\n",
    "Vamos pegar um exemplo de nivem minimo de estoque. Em uma fabrica vc tam varios produtos e nao pode deixar que os produtos fiquem em falta, para isso, foi definido uma quantidade minima de estoque que os produtos precisa ter\n",
    "\n",
    "identifique quais produtos estao abaixo do nivel minimo de estoque"
   ]
  },
  {
   "cell_type": "code",
   "execution_count": 43,
   "metadata": {},
   "outputs": [],
   "source": [
    "estoque = [1200, 300, 800, 1500, 1900, 2750, 400, 20, 23, 70, 90, 80, 1100]\n",
    "produtos = ['coca', 'pepsi', 'guarana', 'skol', 'brahma', 'agua', 'del valle', 'dolly', 'red bull', 'cachaca', 'vinho', 'cafe', 'cha']\n",
    "\n",
    "nivel_minimo = 50"
   ]
  },
  {
   "cell_type": "code",
   "execution_count": 50,
   "metadata": {},
   "outputs": [
    {
     "name": "stdout",
     "output_type": "stream",
     "text": [
      "dolly está abaixo do nivem minimo. Temos apenas20 unidades\n",
      "red bull está abaixo do nivem minimo. Temos apenas23 unidades\n"
     ]
    }
   ],
   "source": [
    "for i, qtde in enumerate(estoque):\n",
    "    if qtde < nivel_minimo:\n",
    "        print('{} está abaixo do nivem minimo. Temos apenas{} unidades'.format(produtos[i], qtde))"
   ]
  },
  {
   "cell_type": "code",
   "execution_count": 51,
   "metadata": {},
   "outputs": [],
   "source": [
    "estoque = [1200, 300, 800, 1500, 1900, 2750, 400, 20, 23, 70, 90, 80, 1100]\n",
    "produtos = ['coca', 'pepsi', 'guarana', 'skol', 'brahma', 'agua', 'del valle', 'dolly', 'red bull', 'cachaca', 'vinho', 'cafe', 'cha']\n",
    "\n",
    "nivel_minimo = 50"
   ]
  },
  {
   "cell_type": "code",
   "execution_count": 55,
   "metadata": {},
   "outputs": [
    {
     "name": "stdout",
     "output_type": "stream",
     "text": [
      "dolly está abaixo do nivem minimo. Temos apenas 20 unidades\n",
      "red bull está abaixo do nivem minimo. Temos apenas 23 unidades\n"
     ]
    }
   ],
   "source": [
    "for i, produto in enumerate(produtos):\n",
    "    if estoque[i] < nivel_minimo:\n",
    "        print('{} está abaixo do nivem minimo. Temos apenas {} unidades'.format(produtos[i], estoque[i]))"
   ]
  },
  {
   "cell_type": "code",
   "execution_count": null,
   "metadata": {},
   "outputs": [],
   "source": []
  },
  {
   "cell_type": "code",
   "execution_count": null,
   "metadata": {},
   "outputs": [],
   "source": []
  },
  {
   "cell_type": "code",
   "execution_count": null,
   "metadata": {},
   "outputs": [],
   "source": []
  },
  {
   "cell_type": "code",
   "execution_count": null,
   "metadata": {},
   "outputs": [],
   "source": []
  },
  {
   "cell_type": "code",
   "execution_count": null,
   "metadata": {},
   "outputs": [],
   "source": []
  }
 ],
 "metadata": {
  "kernelspec": {
   "display_name": "Python 3",
   "language": "python",
   "name": "python3"
  },
  "language_info": {
   "codemirror_mode": {
    "name": "ipython",
    "version": 3
   },
   "file_extension": ".py",
   "mimetype": "text/x-python",
   "name": "python",
   "nbconvert_exporter": "python",
   "pygments_lexer": "ipython3",
   "version": "3.8.5"
  }
 },
 "nbformat": 4,
 "nbformat_minor": 4
}
