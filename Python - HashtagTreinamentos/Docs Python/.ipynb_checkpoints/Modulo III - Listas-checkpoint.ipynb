{
 "cells": [
  {
   "cell_type": "markdown",
   "metadata": {},
   "source": [
    "## Listas em Python\n",
    "\n",
    "## Estrutura:\n",
    "\n",
    "lista = [valor, valor, valor, ...]\n",
    "\n",
    " - lista é um dos objetos mais importantes de Python, por isso vamos trabalhar bastante neles\n",
    " - Quando importamos uma base de dados para o Python, normalmente ele é lido como uma 'lista' ou com alguma 'varição de lista'\n",
    " - Listas em Python foram feitas para sempre ser homogeneas, apesar de aceitar valores heterogeneos\n",
    " - Exemplos de lista:\n",
    "    \n",
    " Lista de produtos de uma loja:   "
   ]
  },
  {
   "cell_type": "code",
   "execution_count": 2,
   "metadata": {},
   "outputs": [
    {
     "name": "stdout",
     "output_type": "stream",
     "text": [
      "['tv', 'celular', 'mouse', 'teclado', 'tablet']\n"
     ]
    }
   ],
   "source": [
    "\n",
    "nome = 'celular'\n",
    "produtos = ['tv', nome, 'mouse', 'teclado', 'tablet']\n",
    "\n",
    "print(produtos)"
   ]
  },
  {
   "cell_type": "markdown",
   "metadata": {},
   "source": [
    "Lista de Unidades Vendidas de cada produto da loja"
   ]
  },
  {
   "cell_type": "code",
   "execution_count": 3,
   "metadata": {},
   "outputs": [],
   "source": [
    "vendas = [1000, 1500, 350, 270, 900]"
   ]
  },
  {
   "cell_type": "markdown",
   "metadata": {},
   "source": [
    "## Indices nas listas\n",
    "\n",
    "lista[i] -> é p valor de idice i da lista.<br>\n",
    "Obs. Le,bre que no python o indice comeca em 0, então o primeiro item de uma lista é o item lista[0]\n",
    "\n",
    "\n",
    "Para substituir um valor de uma lista voce pode fazer:\n",
    "lista[i] = novo_valor"
   ]
  },
  {
   "cell_type": "code",
   "execution_count": 4,
   "metadata": {},
   "outputs": [
    {
     "name": "stdout",
     "output_type": "stream",
     "text": [
      "celular\n"
     ]
    }
   ],
   "source": [
    "produtos = ['tv', 'celular', 'mouse', 'teclado', 'tablet']\n",
    "\n",
    "print(produtos[1])"
   ]
  },
  {
   "cell_type": "code",
   "execution_count": 5,
   "metadata": {},
   "outputs": [
    {
     "name": "stdout",
     "output_type": "stream",
     "text": [
      "1500\n"
     ]
    }
   ],
   "source": [
    "vendas = [1000, 1500, 350, 270, 900]\n",
    "print(vendas[1])"
   ]
  },
  {
   "cell_type": "markdown",
   "metadata": {},
   "source": [
    "Nesse caso, as listas funcionam da seguinte forma:"
   ]
  },
  {
   "cell_type": "raw",
   "metadata": {},
   "source": [
    "produtos = ['tv', 'celular', 'mouse', 'teclado', 'tablet']\n",
    "              0       1         2         3          4\n",
    "vendas =   [1000,   1500,      350,      270,       900]    \n",
    "    "
   ]
  },
  {
   "cell_type": "code",
   "execution_count": 8,
   "metadata": {},
   "outputs": [
    {
     "name": "stdout",
     "output_type": "stream",
     "text": [
      "Vendas do produto tv foram de 500 unidades\n"
     ]
    }
   ],
   "source": [
    "vendas[0] = 500\n",
    "\n",
    "print('Vendas do produto {} foram de {} unidades'.format(produtos[0], vendas[0]))"
   ]
  },
  {
   "cell_type": "code",
   "execution_count": 11,
   "metadata": {},
   "outputs": [
    {
     "name": "stdout",
     "output_type": "stream",
     "text": [
      "l\n"
     ]
    },
    {
     "ename": "TypeError",
     "evalue": "'str' object does not support item assignment",
     "output_type": "error",
     "traceback": [
      "\u001b[1;31m---------------------------------------------------------------------------\u001b[0m",
      "\u001b[1;31mTypeError\u001b[0m                                 Traceback (most recent call last)",
      "\u001b[1;32m<ipython-input-11-c59d6b82da8f>\u001b[0m in \u001b[0;36m<module>\u001b[1;34m\u001b[0m\n\u001b[0;32m      5\u001b[0m \u001b[1;33m\u001b[0m\u001b[0m\n\u001b[0;32m      6\u001b[0m \u001b[1;33m\u001b[0m\u001b[0m\n\u001b[1;32m----> 7\u001b[1;33m \u001b[0mtexto\u001b[0m\u001b[1;33m[\u001b[0m\u001b[1;36m0\u001b[0m\u001b[1;33m]\u001b[0m \u001b[1;33m=\u001b[0m \u001b[1;34m'g'\u001b[0m\u001b[1;33m\u001b[0m\u001b[1;33m\u001b[0m\u001b[0m\n\u001b[0m\u001b[0;32m      8\u001b[0m \u001b[0mprint\u001b[0m\u001b[1;33m(\u001b[0m\u001b[0mtexto\u001b[0m\u001b[1;33m)\u001b[0m\u001b[1;33m\u001b[0m\u001b[1;33m\u001b[0m\u001b[0m\n",
      "\u001b[1;31mTypeError\u001b[0m: 'str' object does not support item assignment"
     ]
    }
   ],
   "source": [
    "# string é uma lista, porem é imutavel, não consigo alterar/atribuir um valor dentro de uma string\n",
    "\n",
    "texto = 'lira@gmail.com'\n",
    "print(texto[0])\n",
    "\n",
    "\n",
    "texto[0] = 'g'\n",
    "print(texto)"
   ]
  },
  {
   "cell_type": "markdown",
   "metadata": {},
   "source": [
    "### Como descobrir o indice de um item de uma lista?\n",
    "\n",
    "i = lista.index('item')\n",
    "\n",
    "Exemplo:\n",
    "\n",
    "Digamos que você puxou do Banco de Dados da sua empresa uma lista com todos os produtos que a empresa vende e a quantidade em estoque de todos eles\n"
   ]
  },
  {
   "cell_type": "code",
   "execution_count": 12,
   "metadata": {},
   "outputs": [],
   "source": [
    "produtos = ['tv', 'celular', 'tablet', 'mouse', 'teclado', 'geladeira', 'forno']\n",
    "estoque = [100, 150, 100, 120, 70, 90, 80]"
   ]
  },
  {
   "cell_type": "markdown",
   "metadata": {},
   "source": [
    "Nesse caso a lista é \"pequena\" para fins didaticos, mas esta lista poderia ter dezenas de miçhares de produtos diferentes.\n",
    "\n",
    "E agora, como eu faço para descobrir a quantidade em estoque do produto geladeira?"
   ]
  },
  {
   "cell_type": "code",
   "execution_count": 15,
   "metadata": {},
   "outputs": [
    {
     "name": "stdout",
     "output_type": "stream",
     "text": [
      "geladeira\n",
      "90\n"
     ]
    }
   ],
   "source": [
    "i = produtos.index('geladeira')\n",
    "\n",
    "print(produtos[i])\n",
    "\n",
    "qtde_estoque = estoque[i]\n",
    "print(qtde_estoque)"
   ]
  },
  {
   "cell_type": "markdown",
   "metadata": {},
   "source": [
    "Crie um programa para fazer uma consulta de vendas. O usuário do programa deve inserir o nome do produto, caso ele não exista na lista, ele deve ser avisado. Caso exista, o programa deve dizer a quantidade de unidades em estoque do produto"
   ]
  },
  {
   "cell_type": "code",
   "execution_count": 23,
   "metadata": {},
   "outputs": [
    {
     "name": "stdout",
     "output_type": "stream",
     "text": [
      "Insira o nome do produto em letra minuscula: \n",
      " não existe no estoque\n"
     ]
    }
   ],
   "source": [
    "produtoPesquisado = input('Insira o nome do produto em letra minuscula: ')\n",
    "\n",
    "if produtoPesquisado in produtos:\n",
    "    i = produtos.index(produtoPesquisado)\n",
    "    qtde_estoque = estoque[i]\n",
    "    print('Temos {} unidades de {} no estoque'.format(qtde_estoque, produtoPesquisado))\n",
    "else:\n",
    "    print('{} não existe no estoque'.format(produtoPesquisado))"
   ]
  },
  {
   "cell_type": "markdown",
   "metadata": {},
   "source": [
    "### Adicionar e Remover itens de uma lista\n",
    "\n",
    "Adicionar:<br>\n",
    "lista.append(item)\n",
    "\n",
    "Remover:<br>\n",
    "item_removido = lista.pop(indice)<br>\n",
    "lista.remove(item)\n",
    "\n",
    "\n",
    "Digamos que voce esta construindo o console de produtos da Apple.<br>\n",
    "E a Apple lancou o IPhone 11 e ira tirar dos seus estoques o Iphone X"
   ]
  },
  {
   "cell_type": "code",
   "execution_count": 43,
   "metadata": {},
   "outputs": [
    {
     "name": "stdout",
     "output_type": "stream",
     "text": [
      "['apple tv', 'mac', 'iphone x', 'IPad', 'apple watch', 'mac book', 'airpods']\n"
     ]
    }
   ],
   "source": [
    "produtos = ['apple tv', 'mac', 'iphone x', 'IPad', 'apple watch', 'mac book', 'airpods']\n",
    "print(produtos)"
   ]
  },
  {
   "cell_type": "code",
   "execution_count": 44,
   "metadata": {},
   "outputs": [
    {
     "name": "stdout",
     "output_type": "stream",
     "text": [
      "['apple teve', 'mac', 'iphone x', 'IPad', 'apple watch', 'mac book', 'airpods', 'iphone 11']\n",
      "['apple teve', 'mac', 'IPad', 'apple watch', 'mac book', 'airpods', 'iphone 11']\n"
     ]
    }
   ],
   "source": [
    "\n",
    "# Se quiser trocar\n",
    "produtos[0] = 'apple teve'\n",
    "\n",
    "# adicionar o iphone 11\n",
    "\n",
    "produtos.append('iphone 11')\n",
    "print(produtos)\n",
    "# remover o iphone x\n",
    "\n",
    "produtos.remove('iphone x')\n",
    "print(produtos)"
   ]
  },
  {
   "cell_type": "code",
   "execution_count": 46,
   "metadata": {},
   "outputs": [
    {
     "name": "stdout",
     "output_type": "stream",
     "text": [
      "['apple tv', 'mac', 'iphone x', 'IPad', 'apple watch', 'mac book', 'airpods']\n",
      "['apple tv', 'mac', 'IPad', 'apple watch', 'mac book', 'airpods']\n",
      "Removemos o iphone x da lista\n"
     ]
    }
   ],
   "source": [
    "produtos = ['apple tv', 'mac', 'iphone x', 'IPad', 'apple watch', 'mac book', 'airpods']\n",
    "print(produtos)\n",
    "\n",
    "# remover o iphone x\n",
    "\n",
    "item_removido = produtos.pop(2)\n",
    "print(produtos)\n",
    "print('Removemos o {} da lista'.format(item_removido))\n"
   ]
  },
  {
   "cell_type": "code",
   "execution_count": null,
   "metadata": {},
   "outputs": [],
   "source": [
    "\n",
    "\n"
   ]
  },
  {
   "cell_type": "markdown",
   "metadata": {},
   "source": [
    "#### Existem dias formas de tratar o erro\n",
    "\n",
    "1. Criar um if para evidar que aconteça<br>\n",
    "2. Esperar que ele possa acontecer e tratar caso o erro aconceta com:"
   ]
  },
  {
   "cell_type": "code",
   "execution_count": 49,
   "metadata": {},
   "outputs": [
    {
     "name": "stdout",
     "output_type": "stream",
     "text": [
      "['apple tv', 'mac', 'iphone x', 'IPad', 'apple watch', 'mac book', 'airpods']\n",
      "Informe o produto que deseja remover: iphone x\n",
      "['apple tv', 'mac', 'IPad', 'apple watch', 'mac book', 'airpods']\n"
     ]
    }
   ],
   "source": [
    "produtos = ['apple tv', 'mac', 'iphone x', 'IPad', 'apple watch', 'mac book', 'airpods']\n",
    "print(produtos)\n",
    "\n",
    "# pesquisando o item errado\n",
    "\n",
    "produto_remover = input('Informe o produto que deseja remover: ')\n",
    "\n",
    "if produto_remover in produtos:\n",
    "    produtos.remove(produto_remover)\n",
    "else:\n",
    "    print('{} não existe na lista de produtos'.format(produto_remover))\n",
    "\n",
    "    \n",
    "print(produtos)"
   ]
  },
  {
   "cell_type": "raw",
   "metadata": {},
   "source": [
    "# Outra forma de tratar o erro\n",
    "\n",
    "try:\n",
    "    tentar fazer\n",
    "except:\n",
    "    caso de errado"
   ]
  },
  {
   "cell_type": "code",
   "execution_count": 52,
   "metadata": {},
   "outputs": [
    {
     "name": "stdout",
     "output_type": "stream",
     "text": [
      "['apple tv', 'mac', 'iphone x', 'IPad', 'apple watch', 'mac book', 'airpods']\n",
      "Informe o produto que deseja remover: semp toshiba\n",
      "semp toshiba não existe na lista de produtos\n"
     ]
    }
   ],
   "source": [
    "produtos = ['apple tv', 'mac', 'iphone x', 'IPad', 'apple watch', 'mac book', 'airpods']\n",
    "print(produtos)\n",
    "\n",
    "produto_remover = input('Informe o produto que deseja remover: ')\n",
    "\n",
    "try:\n",
    "    produtos.remove(produto_remover)\n",
    "    print(produtos)\n",
    "except:\n",
    "    print('{} não existe na lista de produtos'.format(produto_remover))\n",
    "    # ou posso utilizar um pass"
   ]
  },
  {
   "cell_type": "markdown",
   "metadata": {},
   "source": [
    "## Algumas Funçoes Básicas de Lista\n",
    "\n",
    "### Tamanho da lista\n",
    "\n",
    "tamanho = len(lista)"
   ]
  },
  {
   "cell_type": "code",
   "execution_count": 54,
   "metadata": {},
   "outputs": [],
   "source": [
    "produtos = ['apple tv', 'mac', 'iphone x', 'IPad', 'apple watch', 'mac book', 'airpods']"
   ]
  },
  {
   "cell_type": "markdown",
   "metadata": {},
   "source": [
    "- Quantos produtos temos a venda?"
   ]
  },
  {
   "cell_type": "code",
   "execution_count": 55,
   "metadata": {},
   "outputs": [
    {
     "name": "stdout",
     "output_type": "stream",
     "text": [
      "Temos 7 produtos\n"
     ]
    }
   ],
   "source": [
    "tamanho = len(produtos)\n",
    "print('Temos {} produtos'.format(tamanho))"
   ]
  },
  {
   "cell_type": "markdown",
   "metadata": {},
   "source": [
    "### Maior e Menor Valor\n",
    "\n",
    "maior = max(lista)\n",
    "\n",
    "menor = min(lista)"
   ]
  },
  {
   "cell_type": "code",
   "execution_count": 56,
   "metadata": {},
   "outputs": [],
   "source": [
    "vendas = [1000, 1500, 15000, 270, 900, 100, 1200]"
   ]
  },
  {
   "cell_type": "markdown",
   "metadata": {},
   "source": [
    "- Qual o item mais vendido?\n",
    "- Qual o item menos vendido?"
   ]
  },
  {
   "cell_type": "code",
   "execution_count": 62,
   "metadata": {},
   "outputs": [
    {
     "name": "stdout",
     "output_type": "stream",
     "text": [
      "O produto mais vendido foi o iphone x, com 15000 em vendas\n",
      "O produto menos vendido foi o mac book, com 100 em vendas\n"
     ]
    }
   ],
   "source": [
    "maisVendido = max(vendas)\n",
    "i = vendas.index(maisVendido)\n",
    "prod = produtos[i]\n",
    "print('O produto mais vendido foi o {}, com {} em vendas'.format(prod, maisVendido))\n",
    "\n",
    "menosVendido = min(vendas)\n",
    "i = vendas.index(menosVendido)\n",
    "prod = produtos[i]\n",
    "print('O produto menos vendido foi o {}, com {} em vendas'.format(prod, menosVendido))"
   ]
  },
  {
   "cell_type": "markdown",
   "metadata": {},
   "source": [
    "## Juntar Listas, Ordenar e Cuidados Especiais\n",
    "\n",
    "### 2 formas:\n",
    "- lista1.extend(lista2)<br>\n",
    "- lista_nova = lista1 + lista2\n",
    "\n",
    "Obs: O método .append não junta listas, mas adiciona um valor no final da lista"
   ]
  },
  {
   "cell_type": "code",
   "execution_count": 67,
   "metadata": {},
   "outputs": [
    {
     "name": "stdout",
     "output_type": "stream",
     "text": [
      "['apple tv', 'mac', 'iphone x', 'IPad', 'apple watch', 'mac book', 'airpods', 'semp toshiba', 'sansung']\n",
      "['apple tv', 'mac', 'iphone x', 'IPad', 'apple watch', 'mac book', 'airpods', 'semp toshiba', 'sansung', 'claro', 'tim']\n"
     ]
    }
   ],
   "source": [
    "produtos = ['apple tv', 'mac', 'iphone x', 'IPad', 'apple watch', 'mac book', 'airpods']\n",
    "novos_produtos = ['semp toshiba', 'sansung']\n",
    "\n",
    "produtos.extend(novos_produtos)\n",
    "print(produtos)\n",
    "\n",
    "# ou\n",
    "\n",
    "outros_produtos = ['claro', 'tim']\n",
    "\n",
    "todos_produtos = produtos + outros_produtos\n",
    "print(todos_produtos)"
   ]
  },
  {
   "cell_type": "markdown",
   "metadata": {},
   "source": [
    "### Cuidado:\n",
    "\n",
    "- [1] + [2] não é a mesma coisa que 1 + 2, então cuidado sempre com o formato dos valores na hora de fazer operações"
   ]
  },
  {
   "cell_type": "code",
   "execution_count": 71,
   "metadata": {},
   "outputs": [
    {
     "name": "stdout",
     "output_type": "stream",
     "text": [
      "[1, 2]\n",
      "3\n",
      "1270\n",
      "[345000, 28]\n",
      "345028\n"
     ]
    }
   ],
   "source": [
    "vendas = vendas = [1000, 1500, 15000, 270, 900, 100, 1200]\n",
    "vendas_semptoshiba = [345000]\n",
    "vendas_sansung = [28]\n",
    "\n",
    "print([1] + [2])\n",
    "\n",
    "print(1 + 2)\n",
    "\n",
    "\n",
    "total_iphone = vendas[0] + vendas[3]\n",
    "print(total_iphone)\n",
    "\n",
    "\n",
    "total_iphone_listas = vendas_semptoshiba + vendas_sansung\n",
    "print(total_iphone_listas)\n",
    "\n",
    "total_iphone_listas = vendas_semptoshiba[0] + vendas_sansung[0]\n",
    "print(total_iphone_listas)"
   ]
  },
  {
   "cell_type": "code",
   "execution_count": null,
   "metadata": {},
   "outputs": [],
   "source": []
  },
  {
   "cell_type": "markdown",
   "metadata": {},
   "source": [
    "### Ordernar listas\n",
    "\n",
    "lista.sort()"
   ]
  },
  {
   "cell_type": "code",
   "execution_count": 75,
   "metadata": {},
   "outputs": [
    {
     "name": "stdout",
     "output_type": "stream",
     "text": [
      "['IPad', 'airpods', 'apple tv', 'apple watch', 'iphone x', 'mac', 'mac book', 'sansung', 'semp toshiba']\n",
      "[15000, 1500, 1200, 1000, 900, 270, 100]\n"
     ]
    }
   ],
   "source": [
    "produtos.sort()\n",
    "print(produtos)\n",
    "\n",
    "vendas.sort(reverse = True)\n",
    "print(vendas)"
   ]
  },
  {
   "cell_type": "markdown",
   "metadata": {},
   "source": [
    "### Print de Listas\n",
    "\n",
    "2 Opções:\n",
    "\n",
    "   - print\"normal\"\n",
    "   - método join -> texto.join(lista)"
   ]
  },
  {
   "cell_type": "code",
   "execution_count": 77,
   "metadata": {},
   "outputs": [
    {
     "name": "stdout",
     "output_type": "stream",
     "text": [
      "['apple tv', 'mac', 'iphone x', 'IPad', 'apple watch', 'mac book', 'airpods']\n",
      " \n"
     ]
    }
   ],
   "source": [
    "produtos = ['apple tv', 'mac', 'iphone x', 'IPad', 'apple watch', 'mac book', 'airpods']\n",
    "print(produtos)\n",
    "\n",
    "print(' ')"
   ]
  },
  {
   "cell_type": "code",
   "execution_count": 80,
   "metadata": {},
   "outputs": [
    {
     "name": "stdout",
     "output_type": "stream",
     "text": [
      "apple tv,mac,iphone x,IPad,apple watch,mac book,airpods\n",
      "apple tv\n",
      "mac\n",
      "iphone x\n",
      "IPad\n",
      "apple watch\n",
      "mac book\n",
      "airpods\n"
     ]
    }
   ],
   "source": [
    "print(','.join(produtos))\n",
    "\n",
    "print('\\n'.join(produtos))"
   ]
  },
  {
   "cell_type": "markdown",
   "metadata": {},
   "source": [
    "Lembrando do método split de strings:\n",
    "    \n",
    "    lista = texto.split(separador)"
   ]
  },
  {
   "cell_type": "code",
   "execution_count": 85,
   "metadata": {},
   "outputs": [
    {
     "name": "stdout",
     "output_type": "stream",
     "text": [
      "['apple tv', 'mac', 'iphone 11', 'Ipad', 'apple watch', 'mac book', 'airpods']\n"
     ]
    }
   ],
   "source": [
    "produtos = 'apple tv, mac, iphone 11, Ipad, apple watch, mac book, airpods'\n",
    "lista = produtos.split(', ') # virgula e espaço\n",
    "\n",
    "print(lista)"
   ]
  },
  {
   "cell_type": "markdown",
   "metadata": {},
   "source": [
    "## Copiar e \"Igualdade\" de Listas\n",
    "\n",
    "### Estrutura:\n",
    "\n",
    "- Quando fazemos: <br>\n",
    "lista2 = lista1  <br>\n",
    "não estamos criando uma lista nova, mas estamos atribuindo outra variavel a mesma lista.\n",
    "\n",
    "- Se quisermos copiar lista devemos fazer:<br>\n",
    "lista2 = lista1.copy()<br>\n",
    "ou entao<br>\n",
    "lista2 = lista1[:]\n",
    "\n",
    "Para entender bem isso, vamos ver na prática:"
   ]
  },
  {
   "cell_type": "code",
   "execution_count": 6,
   "metadata": {},
   "outputs": [
    {
     "name": "stdout",
     "output_type": "stream",
     "text": [
      "['ipad', 'iphone 11', 'apple tv']\n",
      "['ipad', 'iphone 11', 'apple tv']\n"
     ]
    }
   ],
   "source": [
    "lista = ['ipad', 'iphone x', 'apple tv']\n",
    "lista2 = lista\n",
    "\n",
    "lista[1] = 'iphone 11'\n",
    "\n",
    "print(lista2)\n",
    "print(lista)"
   ]
  },
  {
   "cell_type": "markdown",
   "metadata": {},
   "source": [
    "### Agora copiando:"
   ]
  },
  {
   "cell_type": "code",
   "execution_count": 4,
   "metadata": {},
   "outputs": [
    {
     "name": "stdout",
     "output_type": "stream",
     "text": [
      "['ipad', 'iphone x', 'apple tv']\n",
      "['ipad', 'iphone 11', 'apple tv']\n"
     ]
    }
   ],
   "source": [
    "lista = ['ipad', 'iphone x', 'apple tv']\n",
    "lista2 = lista.copy()\n",
    "\n",
    "lista[1] = 'iphone 11'\n",
    "\n",
    "print(lista2)\n",
    "print(lista)"
   ]
  },
  {
   "cell_type": "markdown",
   "metadata": {},
   "source": [
    "## Listas de Listas\n",
    "\n",
    "### Estrutura:\n",
    "\n",
    "Cada item de uma lista pode ser qualquer tipo de variavel. Inclusive, uma lista.\n",
    "\n",
    "Quando dentro de uma lista temos cada item como sendo uma outra lista, temos uma \"nested list\", ou seja, uma lista de listas.\n",
    "\n",
    "Todas as regras de lista e tudo que vimos até agora funciona exatamente igual, mas vamos ver como funciona na prática"
   ]
  },
  {
   "cell_type": "code",
   "execution_count": 7,
   "metadata": {},
   "outputs": [],
   "source": [
    "vendedores = ['Lira', 'João', 'Diego', 'Alon']\n",
    "\n",
    "produtos = ['ipad', 'iphone']\n",
    "\n",
    "vendas = [\n",
    "    [100, 200],\n",
    "    [300, 500],\n",
    "    [50, 1000],\n",
    "    [900, 10],   \n",
    "]\n",
    "\n"
   ]
  },
  {
   "cell_type": "markdown",
   "metadata": {},
   "source": [
    "- Quanto João vendeu de Ipad?\n",
    "- Quanto Diego vendeu de Iphone?\n",
    "- Qual o total de vendas de Iphone?"
   ]
  },
  {
   "cell_type": "code",
   "execution_count": 12,
   "metadata": {},
   "outputs": [
    {
     "name": "stdout",
     "output_type": "stream",
     "text": [
      "300\n",
      "1000\n",
      "1710\n"
     ]
    }
   ],
   "source": [
    "vendas_ipad_joao = vendas[1][0]\n",
    "print(vendas_ipad_joao)\n",
    "\n",
    "vendas_iphone_diego = vendas[2][1]\n",
    "print(vendas_iphone_diego)\n",
    "\n",
    "soma_vendas_iphone = vendas[0][1] + vendas[1][1] + vendas[2][1] + vendas[3][1]\n",
    "print(soma_vendas_iphone)"
   ]
  },
  {
   "cell_type": "markdown",
   "metadata": {},
   "source": [
    "- E se Lira na verdade fez apenas 50 vendas de iphone, como eu modifico na minha lista o valor de vendas dele?"
   ]
  },
  {
   "cell_type": "code",
   "execution_count": 15,
   "metadata": {},
   "outputs": [
    {
     "name": "stdout",
     "output_type": "stream",
     "text": [
      "[[100, 200], [300, 500], [50, 1000], [900, 10]]\n",
      "[[100, 50], [300, 500], [50, 1000], [900, 10]]\n"
     ]
    }
   ],
   "source": [
    "# lista[i] = 50\n",
    "\n",
    "vendas = [\n",
    "    [100, 200],\n",
    "    [300, 500],\n",
    "    [50, 1000],\n",
    "    [900, 10],   \n",
    "]\n",
    "print(vendas)\n",
    "\n",
    "vendas[0][1] = 50\n",
    "print(vendas)"
   ]
  },
  {
   "cell_type": "markdown",
   "metadata": {},
   "source": [
    "- E se agora eu tenho um novo produto 'mac', como eu adiciono as vendas em cada um dos vendedpres?"
   ]
  },
  {
   "cell_type": "code",
   "execution_count": 20,
   "metadata": {},
   "outputs": [
    {
     "name": "stdout",
     "output_type": "stream",
     "text": [
      "[[100, 200, 10], [300, 500, 15], [50, 1000, 6], [900, 10, 70]]\n"
     ]
    }
   ],
   "source": [
    "vendas = [\n",
    "    [100, 200],\n",
    "    [300, 500],\n",
    "    [50, 1000],\n",
    "    [900, 10],   \n",
    "]\n",
    "\n",
    "vendas_mac = [10, 15, 6, 70]\n",
    "\n",
    "vendas[0].append(vendas_mac[0])\n",
    "vendas[1].append(vendas_mac[1])\n",
    "vendas[2].append(vendas_mac[2])\n",
    "vendas[3].append(vendas_mac[3])\n",
    "print(vendas)"
   ]
  },
  {
   "cell_type": "code",
   "execution_count": null,
   "metadata": {},
   "outputs": [],
   "source": []
  }
 ],
 "metadata": {
  "kernelspec": {
   "display_name": "Python 3",
   "language": "python",
   "name": "python3"
  },
  "language_info": {
   "codemirror_mode": {
    "name": "ipython",
    "version": 3
   },
   "file_extension": ".py",
   "mimetype": "text/x-python",
   "name": "python",
   "nbconvert_exporter": "python",
   "pygments_lexer": "ipython3",
   "version": "3.8.5"
  }
 },
 "nbformat": 4,
 "nbformat_minor": 4
}
