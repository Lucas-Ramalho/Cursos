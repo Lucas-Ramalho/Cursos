{
 "cells": [
  {
   "cell_type": "markdown",
   "metadata": {},
   "source": [
    "## Alterações \"incrementais\" de Variáveis\n",
    "\n",
    "Estrutura:\n",
    "\n",
    "- variavel = variavel + outro_valor\n",
    "\n",
    "ou entao\n",
    "\n",
    "- variavel += outro_valor\n"
   ]
  },
  {
   "cell_type": "markdown",
   "metadata": {},
   "source": [
    "Exemplo: vamos adicionar as variaveis criadas o Produto IPad, 500 vendas"
   ]
  },
  {
   "cell_type": "code",
   "execution_count": 11,
   "metadata": {},
   "outputs": [
    {
     "name": "stdout",
     "output_type": "stream",
     "text": [
      "['mac', 'iphone', 'Ipad']\n"
     ]
    }
   ],
   "source": [
    "lista = ['mac', 'iphone']\n",
    "vendas = [100, 200]\n",
    "\n",
    "email = 'lucas@gmail'\n",
    "email = email + 'com'\n",
    "\n",
    "# adicionando o Ipad na lista\n",
    "\n",
    "lista = lista + ['Ipad']\n",
    "\n",
    "print(lista)\n"
   ]
  },
  {
   "cell_type": "code",
   "execution_count": 18,
   "metadata": {},
   "outputs": [
    {
     "name": "stdout",
     "output_type": "stream",
     "text": [
      "800\n"
     ]
    }
   ],
   "source": [
    "\n",
    "soma_vendas = 300\n",
    "# adicionando na soma a quantidade de Ipad\n",
    "\n",
    "soma_vendas += 500\n",
    "\n",
    "print(soma_vendas)"
   ]
  },
  {
   "cell_type": "code",
   "execution_count": 17,
   "metadata": {},
   "outputs": [
    {
     "name": "stdout",
     "output_type": "stream",
     "text": [
      "Esse mês vendemos um total de 800 produtos, sendo:\n",
      "100 unidades de mac\n",
      "200 unidades de iphone\n",
      "500 unidades de Ipad\n"
     ]
    }
   ],
   "source": [
    "email = 'Esse mês vendemos um total de {} produtos, sendo:\\n{} unidades de {}\\n{} unidades de {}'. format(soma_vendas, vendas[0], lista[0], vendas[1], lista[1])\n",
    "\n",
    "email = email + '\\n{} unidades de Ipad'.format(500)\n",
    "print(email)"
   ]
  },
  {
   "cell_type": "code",
   "execution_count": null,
   "metadata": {},
   "outputs": [],
   "source": []
  },
  {
   "cell_type": "code",
   "execution_count": null,
   "metadata": {},
   "outputs": [],
   "source": []
  },
  {
   "cell_type": "code",
   "execution_count": null,
   "metadata": {},
   "outputs": [],
   "source": []
  }
 ],
 "metadata": {
  "kernelspec": {
   "display_name": "Python 3",
   "language": "python",
   "name": "python3"
  },
  "language_info": {
   "codemirror_mode": {
    "name": "ipython",
    "version": 3
   },
   "file_extension": ".py",
   "mimetype": "text/x-python",
   "name": "python",
   "nbconvert_exporter": "python",
   "pygments_lexer": "ipython3",
   "version": "3.8.5"
  }
 },
 "nbformat": 4,
 "nbformat_minor": 4
}
