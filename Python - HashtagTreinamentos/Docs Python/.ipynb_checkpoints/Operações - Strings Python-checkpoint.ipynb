{
 "cells": [
  {
   "cell_type": "markdown",
   "metadata": {},
   "source": [
    "String é uma lista com várias informações no python, lista de caracteres.\n",
    "\n",
    "l u c a s @ g m a i l\n",
    "0 1 2 3 4 5 6 7 8 9 10\n",
    "\n",
    "Pegar um item de uma string: texto[indice]\n",
    "Pegar o tamanho de um texto: len(texto)"
   ]
  },
  {
   "cell_type": "code",
   "execution_count": 2,
   "metadata": {},
   "outputs": [],
   "source": [
    "email = 'lucas@gmail.com'\n",
    "nome = 'Lucas'"
   ]
  },
  {
   "cell_type": "code",
   "execution_count": 9,
   "metadata": {},
   "outputs": [
    {
     "name": "stdout",
     "output_type": "stream",
     "text": [
      "5\n"
     ]
    }
   ],
   "source": [
    "print(len(nome))"
   ]
  },
  {
   "cell_type": "code",
   "execution_count": 11,
   "metadata": {},
   "outputs": [
    {
     "name": "stdout",
     "output_type": "stream",
     "text": [
      "L\n"
     ]
    }
   ],
   "source": [
    "print(nome[0])"
   ]
  },
  {
   "cell_type": "markdown",
   "metadata": {},
   "source": [
    "Texto: lira@gmail.com\n",
    "  \n",
    "-14 -13 -12 -11 -10 -9 -8 -7 -6 -5 -4 -3 -2 -1\n",
    "  l   i   r   a   @  g  m  a  i  l  .  c  o  m\n",
    "    \n",
    "    \n",
    "Para pegar um texto de tras pra frente: texto[indice] -> onde o indice é negativo\n",
    "\n",
    "Para pegar um pedaco de um texto use : (dois ponto). texto[:indice] ou texto[indice:] ou ainda texto[indice:indice]"
   ]
  },
  {
   "cell_type": "code",
   "execution_count": 14,
   "metadata": {
    "scrolled": true
   },
   "outputs": [
    {
     "name": "stdout",
     "output_type": "stream",
     "text": [
      "lucas@gmail.com\n",
      "cas@gmail.com\n",
      "luca\n"
     ]
    }
   ],
   "source": [
    "email = 'lucas@gmail.com'\n",
    "nome = 'Lucas Ramalho do Nascimento'\n",
    "\n",
    "print(email[:])\n",
    "print(email[2:])\n",
    "print(email[:4])"
   ]
  },
  {
   "cell_type": "markdown",
   "metadata": {},
   "source": [
    "Exercicios para Fixação"
   ]
  },
  {
   "cell_type": "code",
   "execution_count": 22,
   "metadata": {},
   "outputs": [
    {
     "name": "stdout",
     "output_type": "stream",
     "text": [
      "Tamanho do email 15 caracteres\n",
      "Primeiro caraccetere l\n",
      "Ultimo caractere m\n",
      "Servidor do email: gmail.com\n",
      "Servidor do email: gmail\n"
     ]
    }
   ],
   "source": [
    "print('Tamanho do email ' + str(len(email)) + ' caracteres')\n",
    "\n",
    "print('Primeiro caraccetere ' + email[0])\n",
    "\n",
    "print('Ultimo caractere ' + email[-1])\n",
    "\n",
    "print('Servidor do email: ' + email[6:])\n",
    "\n",
    "print('Servidor do email: ' + email[6:11])"
   ]
  },
  {
   "cell_type": "markdown",
   "metadata": {},
   "source": [
    "## Operações com String\n",
    "\n",
    "str -> transforma o numero em string <br>\n",
    "in -> verifica se um texto esta contido dentro de outro <br>\n",
    "operador + -> concatenar string <br>\n",
    "format e {} -> substitui valores <br>\n",
    "%s -> substitui textos <br>\n",
    "%d -> substitui numeros decimais\n",
    "\n",
    "\n",
    "Vamos deixar uma cartilha pra dowload"
   ]
  },
  {
   "cell_type": "code",
   "execution_count": 23,
   "metadata": {},
   "outputs": [],
   "source": [
    "faturamento = 1000\n",
    "custo = 500\n",
    "lucro = faturamento - custo"
   ]
  },
  {
   "cell_type": "markdown",
   "metadata": {},
   "source": [
    "Uso do str() e do concatenar com +"
   ]
  },
  {
   "cell_type": "code",
   "execution_count": 27,
   "metadata": {},
   "outputs": [
    {
     "name": "stdout",
     "output_type": "stream",
     "text": [
      "O faturamento da loja foi de: 1000\n"
     ]
    }
   ],
   "source": [
    "print('O faturamento da loja foi de: ' + str(faturamento))"
   ]
  },
  {
   "cell_type": "markdown",
   "metadata": {},
   "source": [
    "Uso do Format"
   ]
  },
  {
   "cell_type": "code",
   "execution_count": 29,
   "metadata": {},
   "outputs": [
    {
     "name": "stdout",
     "output_type": "stream",
     "text": [
      "O faturamento foi de: 1000\n"
     ]
    }
   ],
   "source": [
    "print('O faturamento foi de: {}'.format(faturamento))"
   ]
  },
  {
   "cell_type": "code",
   "execution_count": 30,
   "metadata": {},
   "outputs": [
    {
     "name": "stdout",
     "output_type": "stream",
     "text": [
      "O faturamento foi de: 1000, o custto foi de500, entao o lucro foi de 500. Lembrando faturamento 1000 \n"
     ]
    }
   ],
   "source": [
    "print('O faturamento foi de: {0}, o custto foi de{1}, entao o lucro foi de {2}. Lembrando faturamento {0} '.format(faturamento, custo, lucro))"
   ]
  },
  {
   "cell_type": "code",
   "execution_count": null,
   "metadata": {},
   "outputs": [],
   "source": []
  },
  {
   "cell_type": "markdown",
   "metadata": {},
   "source": [
    "Uso do %s e %d"
   ]
  },
  {
   "cell_type": "code",
   "execution_count": 32,
   "metadata": {},
   "outputs": [
    {
     "name": "stdout",
     "output_type": "stream",
     "text": [
      "O faturamento foi de: 1000 e o lucro foi de 500\n"
     ]
    }
   ],
   "source": [
    "print('O faturamento foi de: %d e o lucro foi de %d' % (faturamento, lucro))"
   ]
  },
  {
   "cell_type": "code",
   "execution_count": null,
   "metadata": {},
   "outputs": [],
   "source": []
  },
  {
   "cell_type": "markdown",
   "metadata": {},
   "source": [
    "Uso do in"
   ]
  },
  {
   "cell_type": "markdown",
   "metadata": {},
   "source": [
    "print('@' in 'lucas@gmail.com')\n",
    "print('@' in 'lucasgmail.com')"
   ]
  },
  {
   "cell_type": "code",
   "execution_count": null,
   "metadata": {},
   "outputs": [],
   "source": []
  },
  {
   "cell_type": "markdown",
   "metadata": {},
   "source": [
    "## \"Formulas\" de Texto - Métodos de String\n",
    "\n",
    "## Estrutura:\n",
    "\n",
    "- Normalmente usamos a estrutura texto.método() para fazer as modificações quu queremos<br>\n",
    "- Alguns métodos pedem \"argumentos\", que são informações que temos que passar para a formula (método) para ela funcionar.\n",
    "Esses argumentos são passados dentro do parênteses\n",
    "\n",
    "\n",
    "## Como usar:\n",
    "\n",
    "Não decore os métodos, os que vc for mais usando com o tempo vai decorar o que precisar\n",
    "\n",
    "Mas a dica é: use essa lista para consulta e busque entender como os métodos funcionam e suas aplicações,\n",
    "    para poder consutal e usar quando precisar\n"
   ]
  },
  {
   "cell_type": "markdown",
   "metadata": {},
   "source": [
    "- capitalize() -> Coloca a 1ª letra Maiuscula"
   ]
  },
  {
   "cell_type": "code",
   "execution_count": 36,
   "metadata": {},
   "outputs": [
    {
     "name": "stdout",
     "output_type": "stream",
     "text": [
      "Lucas\n"
     ]
    }
   ],
   "source": [
    "# Uso:\n",
    "texto = 'lucas'\n",
    "print(texto.capitalize())"
   ]
  },
  {
   "cell_type": "markdown",
   "metadata": {},
   "source": [
    "- casefold() -> Transforma todas a letras em minusculas (existe lower()) mas o casefold é melhor normalmente)"
   ]
  },
  {
   "cell_type": "code",
   "execution_count": 39,
   "metadata": {},
   "outputs": [
    {
     "name": "stdout",
     "output_type": "stream",
     "text": [
      "lucas\n"
     ]
    }
   ],
   "source": [
    "# Uso\n",
    "texto = 'LUCAS'\n",
    "print(texto.casefold())"
   ]
  },
  {
   "cell_type": "markdown",
   "metadata": {},
   "source": [
    "- count() -> Quantidade de vezes que um valor aparece na string"
   ]
  },
  {
   "cell_type": "code",
   "execution_count": 40,
   "metadata": {},
   "outputs": [
    {
     "name": "stdout",
     "output_type": "stream",
     "text": [
      "3\n"
     ]
    }
   ],
   "source": [
    "# Uso\n",
    "texto = 'lucasm@gmail.com'\n",
    "print(texto.count('m'))"
   ]
  },
  {
   "cell_type": "markdown",
   "metadata": {},
   "source": [
    "- endswith() -> Verifica se o texto termina com um valor especifico a resposta vem com True ou False"
   ]
  },
  {
   "cell_type": "code",
   "execution_count": 44,
   "metadata": {},
   "outputs": [
    {
     "name": "stdout",
     "output_type": "stream",
     "text": [
      "True\n"
     ]
    }
   ],
   "source": [
    "# Uso\n",
    "texto = 'lucas@gmail.com'\n",
    "print(texto.endswith('@gmail.com'))"
   ]
  },
  {
   "cell_type": "markdown",
   "metadata": {},
   "source": [
    "- find() -> Procura um texto denteo de outro e da como resposta a posicao do texto encontrado"
   ]
  },
  {
   "cell_type": "code",
   "execution_count": 47,
   "metadata": {},
   "outputs": [
    {
     "name": "stdout",
     "output_type": "stream",
     "text": [
      "5\n"
     ]
    }
   ],
   "source": [
    "# Uso\n",
    "texto = 'Lucas@gmail'\n",
    "print(texto.find('@'))"
   ]
  },
  {
   "cell_type": "code",
   "execution_count": 59,
   "metadata": {},
   "outputs": [],
   "source": [
    "email = 'ls@ymail.com'"
   ]
  },
  {
   "cell_type": "code",
   "execution_count": 60,
   "metadata": {},
   "outputs": [
    {
     "name": "stdout",
     "output_type": "stream",
     "text": [
      "@ymail.com\n"
     ]
    }
   ],
   "source": [
    "print(email[email.find('@'):])"
   ]
  },
  {
   "cell_type": "markdown",
   "metadata": {},
   "source": [
    "- format() - > Formata uma string de acordo com os valores passados."
   ]
  },
  {
   "cell_type": "code",
   "execution_count": 61,
   "metadata": {},
   "outputs": [
    {
     "name": "stdout",
     "output_type": "stream",
     "text": [
      "O faturamento foi de 1000\n"
     ]
    }
   ],
   "source": [
    "#Uso\n",
    "faturamento = 1000\n",
    "print('O faturamento foi de {}'.format(faturamento))"
   ]
  },
  {
   "cell_type": "markdown",
   "metadata": {},
   "source": [
    "- isnalnum() -> Verifica se um texto é todo feito por caracteres alfanumericos (letras e numeros)"
   ]
  },
  {
   "cell_type": "code",
   "execution_count": 63,
   "metadata": {},
   "outputs": [
    {
     "name": "stdout",
     "output_type": "stream",
     "text": [
      "True\n",
      "False\n"
     ]
    }
   ],
   "source": [
    "#Uso\n",
    "texto = 'João123'\n",
    "texto2 = 'João123#'\n",
    "print(texto.isalnum())\n",
    "print(texto2.isalnum())"
   ]
  },
  {
   "cell_type": "markdown",
   "metadata": {},
   "source": [
    "- isalpha() -> Verifica se um texto é todo feito de letras"
   ]
  },
  {
   "cell_type": "code",
   "execution_count": 64,
   "metadata": {},
   "outputs": [
    {
     "name": "stdout",
     "output_type": "stream",
     "text": [
      "True\n",
      "False\n"
     ]
    }
   ],
   "source": [
    "#Uso\n",
    "texto = 'João'\n",
    "texto2 = 'João123'\n",
    "print(texto.isalpha())\n",
    "print(texto2.isalpha())"
   ]
  },
  {
   "cell_type": "markdown",
   "metadata": {},
   "source": [
    "- isnumeric() -> Verifica se um texto é toddo feito por numeros"
   ]
  },
  {
   "cell_type": "code",
   "execution_count": 66,
   "metadata": {},
   "outputs": [
    {
     "name": "stdout",
     "output_type": "stream",
     "text": [
      "True\n",
      "False\n"
     ]
    }
   ],
   "source": [
    "#Uso\n",
    "texto = '123'\n",
    "texto2 = 'João123'\n",
    "print(texto.isnumeric())\n",
    "print(texto2.isnumeric())\n",
    "\n",
    "# Obs: Existem os metodos isdigit()e isdecimal() que tem variações pontuais em caractreres especiais tipo textos como potências, mas para 99% dos casos eles não vão ser necessários"
   ]
  },
  {
   "cell_type": "markdown",
   "metadata": {},
   "source": [
    "- replace() -> Substitui um texto por um outro texto em uma string"
   ]
  },
  {
   "cell_type": "code",
   "execution_count": 67,
   "metadata": {},
   "outputs": [
    {
     "name": "stdout",
     "output_type": "stream",
     "text": [
      "1000,00\n"
     ]
    }
   ],
   "source": [
    "#Uso\n",
    "\n",
    "texto = '1000.00'\n",
    "print(texto.replace('.', ','))"
   ]
  },
  {
   "cell_type": "markdown",
   "metadata": {},
   "source": [
    "- split () -> Separa uma string de acordo com um delimitador em varios textos diferentes"
   ]
  },
  {
   "cell_type": "code",
   "execution_count": 68,
   "metadata": {},
   "outputs": [
    {
     "name": "stdout",
     "output_type": "stream",
     "text": [
      "['lucas', 'gmail']\n"
     ]
    }
   ],
   "source": [
    "# Uso\n",
    "texto = 'lucas@gmail'\n",
    "print(texto.split('@'))"
   ]
  },
  {
   "cell_type": "markdown",
   "metadata": {},
   "source": [
    "- splitlines() - separa um texto em varios textos de acordo com os 'enters' do texto"
   ]
  },
  {
   "cell_type": "code",
   "execution_count": 72,
   "metadata": {},
   "outputs": [
    {
     "name": "stdout",
     "output_type": "stream",
     "text": [
      "['Olá, bom dia', 'Venho por meio desse email', 'Obrigado', 'Lucas Ramalho']\n"
     ]
    }
   ],
   "source": [
    "#Uso:\n",
    "texto = '''Olá, bom dia\n",
    "Venho por meio desse email\n",
    "Obrigado\n",
    "Lucas Ramalho'''\n",
    "\n",
    "print(texto.splitlines())"
   ]
  },
  {
   "cell_type": "markdown",
   "metadata": {},
   "source": [
    "- startswith() -. Verifica se a string comeca com determinado texto"
   ]
  },
  {
   "cell_type": "code",
   "execution_count": 74,
   "metadata": {},
   "outputs": [
    {
     "name": "stdout",
     "output_type": "stream",
     "text": [
      "True\n"
     ]
    }
   ],
   "source": [
    "#Uso:\n",
    "texto = 'BEB1234'\n",
    "print(texto.startswith('BEB'))"
   ]
  },
  {
   "cell_type": "markdown",
   "metadata": {},
   "source": [
    "- strip() -> Retira caracteres indesejados dos textos. Por padrao, retira espacos 'extras' no inicio e no final'"
   ]
  },
  {
   "cell_type": "code",
   "execution_count": 75,
   "metadata": {},
   "outputs": [
    {
     "name": "stdout",
     "output_type": "stream",
     "text": [
      "BEB1234\n"
     ]
    }
   ],
   "source": [
    "#Uso\n",
    "texto = '  BEB1234   '\n",
    "print(texto.strip())"
   ]
  },
  {
   "cell_type": "markdown",
   "metadata": {},
   "source": [
    "- title() -> Coloca a primeira letra de cada palavra em maiuscula"
   ]
  },
  {
   "cell_type": "code",
   "execution_count": 76,
   "metadata": {},
   "outputs": [
    {
     "name": "stdout",
     "output_type": "stream",
     "text": [
      "Lucas Ramalho Do Nascimento\n"
     ]
    }
   ],
   "source": [
    "#Uso\n",
    "texto = 'lucas ramalho do nascimento'\n",
    "print(texto.title())"
   ]
  },
  {
   "cell_type": "markdown",
   "metadata": {},
   "source": [
    "- upper() -> Coloca o texto todo em letra maiuscula"
   ]
  },
  {
   "cell_type": "code",
   "execution_count": 78,
   "metadata": {
    "scrolled": true
   },
   "outputs": [
    {
     "name": "stdout",
     "output_type": "stream",
     "text": [
      "LUCAS RAMALHO\n"
     ]
    }
   ],
   "source": [
    "texto = 'lucas ramalho'\n",
    "print(texto.upper())"
   ]
  },
  {
   "cell_type": "code",
   "execution_count": null,
   "metadata": {},
   "outputs": [],
   "source": []
  },
  {
   "cell_type": "code",
   "execution_count": null,
   "metadata": {},
   "outputs": [],
   "source": []
  },
  {
   "cell_type": "code",
   "execution_count": null,
   "metadata": {},
   "outputs": [],
   "source": []
  }
 ],
 "metadata": {
  "kernelspec": {
   "display_name": "Python 3",
   "language": "python",
   "name": "python3"
  },
  "language_info": {
   "codemirror_mode": {
    "name": "ipython",
    "version": 3
   },
   "file_extension": ".py",
   "mimetype": "text/x-python",
   "name": "python",
   "nbconvert_exporter": "python",
   "pygments_lexer": "ipython3",
   "version": "3.8.5"
  }
 },
 "nbformat": 4,
 "nbformat_minor": 4
}
