{
 "cells": [
  {
   "cell_type": "markdown",
   "metadata": {},
   "source": [
    "# RPA com Python\n",
    "\n",
    "- O que é RPA?\n",
    "- Por que isso é diferente de Selenium/Web-Scraping e do que vimos até agora?\n",
    "    - Pontos Positivos\n",
    "    - Pontos Negativos\n",
    "- Biblioteca usada:\n",
    "    - pip install pyautogui\n",
    "    - https://pyautogui.readthedocs.io/en/latest/\n",
    "        - Para os comandos de imagem pode ser que seja necessário instalar pip install pillow\n",
    "        - Para resolver problemas de caracteres especiais vamos usar um macete com a pyperclip\n",
    "        \n",
    "- Link com um resumo dos principais comandos: https://pyautogui.readthedocs.io/en/latest/quickstart.html"
   ]
  },
  {
   "cell_type": "markdown",
   "metadata": {},
   "source": [
    "## Desafio\n",
    "\n",
    "- Vamos automatizar a extração de informações de um sistema e envio de um relatório por e-mail\n",
    "- No nosso caso, para todo mundo conseguir fazer o mesmo programa, o nosso \"sistema\" vai ser o Gmail, mas o mesmo processo pode ser feito com qualquer programa do seu computador e qualquer sistema\n",
    "    - Passo 1: Entrar no sistema (entrar no Gmail)\n",
    "    - Passo 2: Entrar em uma aba específica do sistema onde tem o nosso relatório (Aba Contatos)\n",
    "    - Passo 3: Exportar o Relatório (Exportar Contatos)\n",
    "    - Passo 4: Pegar o relatório exportado, tratar e pegar as informações que queremos\n",
    "    - Passo 5: Preencher/Atualizar informações do sistema (No nosso caso, criar um e-mail e enviar)"
   ]
  },
  {
   "cell_type": "code",
   "execution_count": null,
   "metadata": {},
   "outputs": [],
   "source": []
  },
  {
   "cell_type": "code",
   "execution_count": 5,
   "metadata": {},
   "outputs": [
    {
     "ename": "TypeError",
     "evalue": "cannot unpack non-iterable NoneType object",
     "output_type": "error",
     "traceback": [
      "\u001b[1;31m---------------------------------------------------------------------------\u001b[0m",
      "\u001b[1;31mTypeError\u001b[0m                                 Traceback (most recent call last)",
      "\u001b[1;32m<ipython-input-5-0d44304cec14>\u001b[0m in \u001b[0;36m<module>\u001b[1;34m\u001b[0m\n\u001b[0;32m     53\u001b[0m \u001b[1;33m\u001b[0m\u001b[0m\n\u001b[0;32m     54\u001b[0m \u001b[0mtime\u001b[0m\u001b[1;33m.\u001b[0m\u001b[0msleep\u001b[0m\u001b[1;33m(\u001b[0m\u001b[1;36m1\u001b[0m\u001b[1;33m)\u001b[0m\u001b[1;33m\u001b[0m\u001b[1;33m\u001b[0m\u001b[0m\n\u001b[1;32m---> 55\u001b[1;33m \u001b[0mx\u001b[0m\u001b[1;33m,\u001b[0m \u001b[0my\u001b[0m\u001b[1;33m,\u001b[0m \u001b[0mlargura\u001b[0m\u001b[1;33m,\u001b[0m \u001b[0maltura\u001b[0m \u001b[1;33m=\u001b[0m \u001b[0mpyautogui\u001b[0m\u001b[1;33m.\u001b[0m\u001b[0mlocateOnScreen\u001b[0m\u001b[1;33m(\u001b[0m\u001b[1;34m'imagens/exportar.png'\u001b[0m\u001b[1;33m)\u001b[0m\u001b[1;33m\u001b[0m\u001b[1;33m\u001b[0m\u001b[0m\n\u001b[0m\u001b[0;32m     56\u001b[0m \u001b[0mpyautogui\u001b[0m\u001b[1;33m.\u001b[0m\u001b[0mclick\u001b[0m\u001b[1;33m(\u001b[0m\u001b[0mx\u001b[0m \u001b[1;33m+\u001b[0m \u001b[0mlargura\u001b[0m\u001b[1;33m/\u001b[0m\u001b[1;36m2\u001b[0m\u001b[1;33m,\u001b[0m \u001b[0my\u001b[0m \u001b[1;33m+\u001b[0m \u001b[0maltura\u001b[0m\u001b[1;33m/\u001b[0m\u001b[1;36m2\u001b[0m\u001b[1;33m)\u001b[0m\u001b[1;33m\u001b[0m\u001b[1;33m\u001b[0m\u001b[0m\n\u001b[0;32m     57\u001b[0m \u001b[1;33m\u001b[0m\u001b[0m\n",
      "\u001b[1;31mTypeError\u001b[0m: cannot unpack non-iterable NoneType object"
     ]
    }
   ],
   "source": [
    "import pyautogui\n",
    "import time\n",
    "\n",
    "# pyautogui.write() -> escreve\n",
    "# pyautogui.click -> clica\n",
    "# pyautogui.locateOnScreen -> Identifica uma imagem na tela\n",
    "# pyautogui.hotkey - > Usa atalhos\n",
    "# pyautogui.press - > aperta um botao do teclado\n",
    "\n",
    "pyautogui.alert('O código vai comecar não mexa em nada!. Quando finalizar eu aviso')\n",
    "\n",
    "# 1 - abrir o sistema (abrir o navegador - Google Crhome)\n",
    "pyautogui.PAUSE = 1\n",
    "    # apertar windows do teclado\n",
    "pyautogui.press('win')\n",
    "    # digitar crhome\n",
    "pyautogui.write('crhome')\n",
    "    # apertar enter\n",
    "pyautogui.press('enter')  \n",
    "    \n",
    "# entrar no Gmail\n",
    "pyautogui.write('gmail')\n",
    "pyautogui.press('enter')\n",
    "\n",
    "# localizar a imagem -> vai dar 4 informacoes: posicao x, posicao y, largura e altura\n",
    "x, y, largura, altura = pyautogui.locateOnScreen('imagens/busca_google.png')\n",
    "# clicar meio da imagem\n",
    "pyautogui.click(x + largura/2, y + altura/2)\n",
    "\n",
    "# esperar o gmail\n",
    "    # time.sleep(10)\n",
    "    # enquanto nao encontrar a logo do gmail espera\n",
    "while not pyautogui.locateOnScreen('imagens/logo_gmail.png'):\n",
    "    time.sleep(1)\n",
    "# entrar em contatos\n",
    "\n",
    "x, y, largura, altura = pyautogui.locateOnScreen('imagens/pontinhos_menu.png')\n",
    "pyautogui.click(x + largura/2, y + altura/2)\n",
    "\n",
    "x, y, largura, altura = pyautogui.locateOnScreen('imagens/contatos.png')\n",
    "pyautogui.click(x + largura/2, y + altura/2)\n",
    "\n",
    "# esperar contatos\n",
    "while not pyautogui.locateOnScreen('imagens/tela_contatos.png'):\n",
    "    time.sleep(1)\n",
    "    \n",
    "    \n",
    "    \n",
    "# exportar os contatos\n",
    "\n",
    "x, y, largura, altura = pyautogui.locateOnScreen('imagens/pesquisar_exportar.png')\n",
    "pyautogui.click(x + largura/2, y + altura/2)\n",
    "\n",
    "time.sleep(1)\n",
    "x, y, largura, altura = pyautogui.locateOnScreen('imagens/exportar2.png')\n",
    "pyautogui.click(x + largura/2, y + altura/2)\n",
    "\n",
    "time.sleep(1)\n",
    "x, y, largura, altura = pyautogui.locateOnScreen('imagens/confirmar_exportar.png')\n",
    "pyautogui.click(x + largura/2, y + altura/2)\n",
    "\n"
   ]
  },
  {
   "cell_type": "markdown",
   "metadata": {},
   "source": [
    "### Agora vamos escrever o e-mail"
   ]
  },
  {
   "cell_type": "code",
   "execution_count": null,
   "metadata": {},
   "outputs": [],
   "source": [
    "import pandas as pd\n",
    "import pyperclip\n",
    "\n",
    "df = pd.read_csv(r'C:\\Users\\lucas\\Downloads/contacts.csv')\n",
    "df = df.dropna(axis=1)\n",
    "display(df)\n",
    "\n",
    "\n",
    "# voltar pra aba anterior\n",
    "pyautogui.hotkey('ctrl', 'pgup')\n",
    "\n",
    "\n",
    "# clicar em escrever para enviar e-mail\n",
    "\n",
    "#for email in df['E-mail Given Name']:\n",
    "    #clicar no botão escrever\n",
    "\n",
    "#clicar no botao escrever\n",
    "x, y, largura, altura = pyautogui.locateOnScreen('imagens/escrever.png')\n",
    "pyautogui.click(x + largura/2, y + altura/2)\n",
    "\n",
    "# escrever o e-mail\n",
    "pyautogui.write('lucasramalhon@yahoo.com.br')\n",
    "pyautogui.press('enter')\n",
    "\n",
    "# escrever assunto\n",
    "pyautogui.press('tab')\n",
    "pyautogui.write('Robo E-mail hastag treinamentos')\n",
    "\n",
    "# corpo do e-mail\n",
    "pyautogui.press('tab')\n",
    "texto = \"\"\"\n",
    "Boa tarde,\n",
    "\n",
    "Segue relatório conforme solicitado.\n",
    "\n",
    "Atenciosamente,\n",
    "Lucas Ramalho\n",
    "\"\"\"\n",
    "\n",
    "pyperclip.copy(texto)\n",
    "\n",
    "pyautogui.hotkey('ctrl', 'v')\n",
    "\n",
    "\n",
    "#clicar no botao anexar\n",
    "x, y, largura, altura = pyautogui.locateOnScreen('imagens/anexar.png')\n",
    "pyautogui.click(x + largura/2, y + altura/2)\n",
    "\n",
    "#ativar a barra de pesquisa de doc\n",
    "pyautogui.hotkey('ctrl', 'l')\n",
    "\n",
    "#encontrar o caminho do arquivo\n",
    "pyautogui.write(r'C:\\Users\\lucas\\Downloads/')\n",
    "pyautogui.hotkey('enter')\n",
    "\n",
    "# encontrar o arquivo na pasta\n",
    "pyautogui.hotkey('tab')\n",
    "pyautogui.hotkey('tab')\n",
    "pyautogui.hotkey('tab')\n",
    "pyautogui.hotkey('tab')\n",
    "pyautogui.hotkey('tab')\n",
    "pyautogui.hotkey('tab')\n",
    "\n",
    "pyautogui.write('contacts.csv')\n",
    "\n",
    "pyautogui.hotkey('tab')\n",
    "pyautogui.hotkey('tab')\n",
    "pyautogui.hotkey('enter')\n",
    "\n",
    "#enviar oo e-mail\n",
    "pyautogui.hotkey('ctrl', 'enter')\n",
    "\n",
    "\n",
    "pyautogui.alert('Fim do código! Obrigado pela paciencia!')"
   ]
  },
  {
   "cell_type": "markdown",
   "metadata": {},
   "source": [
    "### E se eu já tiver com a aba aberta, como que eu coloco ela na frente?"
   ]
  },
  {
   "cell_type": "code",
   "execution_count": null,
   "metadata": {},
   "outputs": [],
   "source": [
    "# esperar contatos\n",
    "# while not pyautogui.locateOnScreen('imagens/paint.png'):\n",
    "#     pyautogui.hotkey('alt','shift', 'tab')\n",
    "# print(\"Achei o paint\")"
   ]
  },
  {
   "cell_type": "markdown",
   "metadata": {},
   "source": [
    "### Como descobrir a posição do mouse do local que eu quero"
   ]
  },
  {
   "cell_type": "code",
   "execution_count": null,
   "metadata": {},
   "outputs": [],
   "source": [
    "# pyautogui.click(1676, 20)\n",
    "\n",
    "print(pyautogui.position())"
   ]
  }
 ],
 "metadata": {
  "kernelspec": {
   "display_name": "Python 3",
   "language": "python",
   "name": "python3"
  },
  "language_info": {
   "codemirror_mode": {
    "name": "ipython",
    "version": 3
   },
   "file_extension": ".py",
   "mimetype": "text/x-python",
   "name": "python",
   "nbconvert_exporter": "python",
   "pygments_lexer": "ipython3",
   "version": "3.8.5"
  }
 },
 "nbformat": 4,
 "nbformat_minor": 4
}
