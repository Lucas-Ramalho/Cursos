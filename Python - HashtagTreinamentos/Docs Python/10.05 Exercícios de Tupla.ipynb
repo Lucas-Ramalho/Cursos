{
 "cells": [
  {
   "cell_type": "markdown",
   "metadata": {},
   "source": [
    "# Exercícios\n",
    "\n",
    "São exercícios bem parecidos com os que fizemos com listas. Mas na tupla, podemos não só trabalhar com índices, mas fazer o \"unpacking\" das tuplas, o que pode facilitar nossos códigos.\n",
    "\n",
    "## 1. Análise de Vendas\n",
    "\n",
    "Nesse exercício vamos fazer uma \"análise simples\" de atingimento de Meta.\n",
    "\n",
    "Temos uma lista com os vendedores e os valores de vendas e queremos identificar (printar) quais os vendedores que bateram a meta e qual foi o valor que eles venderam."
   ]
  },
  {
   "cell_type": "code",
   "execution_count": 2,
   "metadata": {},
   "outputs": [],
   "source": [
    "meta = 10000\n",
    "vendas = [\n",
    "    ('João', 15000),\n",
    "    ('Julia', 27000),\n",
    "    ('Marcus', 9900),\n",
    "    ('Maria', 3750),\n",
    "    ('Ana', 10300),\n",
    "    ('Alon', 7870),\n",
    "]"
   ]
  },
  {
   "cell_type": "code",
   "execution_count": 12,
   "metadata": {},
   "outputs": [
    {
     "name": "stdout",
     "output_type": "stream",
     "text": [
      "O funcionario João vendeu 15000, por esse motivo bateu a meta\n",
      "O funcionario Julia vendeu 27000, por esse motivo bateu a meta\n",
      "O funcionario Ana vendeu 10300, por esse motivo bateu a meta\n"
     ]
    }
   ],
   "source": [
    "for item in vendas:\n",
    "    nome, valor_venda = item\n",
    "    if valor_venda >= meta:\n",
    "        print('O funcionario {} vendeu {}, por esse motivo bateu a meta'.format(nome, valor_venda))"
   ]
  },
  {
   "cell_type": "code",
   "execution_count": null,
   "metadata": {},
   "outputs": [],
   "source": []
  },
  {
   "cell_type": "markdown",
   "metadata": {},
   "source": [
    "## 2. Comparação com Ano Anterior\n",
    "\n",
    "Digamos que você está analisando as vendas de produtos de um ecommerce e quer identificar quais produtos tiveram no ano de 2020 mais vendas do que no ano de 2019, para reportar isso para a diretoria.\n",
    "\n",
    "Sua resposta pode ser um print de cada produto, qual foi a venda de 2019, a venda de 2020 e o % de crescimento de 2020 para 2019.\n",
    "\n",
    "Lembrando, para calcular o % de crescimento de um produto de um ano para o outro, podemos fazer: (vendas_produto2020/vendas_produto2019 - 1)\n",
    "\n",
    "A lógica da tupla é: (produto, vendas2019, vendas2020)"
   ]
  },
  {
   "cell_type": "code",
   "execution_count": 6,
   "metadata": {},
   "outputs": [],
   "source": [
    "vendas_produtos = [('iphone', 558147, 951642), ('galaxy', 712350, 244295), ('ipad', 573823, 26964), ('tv', 405252, 787604), ('máquina de café', 718654, 867660), ('kindle', 531580, 78830), ('geladeira', 973139, 710331), ('adega', 892292, 646016), ('notebook dell', 422760, 694913), ('notebook hp', 154753, 539704), ('notebook asus', 887061, 324831), ('microsoft surface', 438508, 667179), ('webcam', 237467, 295633), ('caixa de som', 489705, 725316), ('microfone', 328311, 644622), ('câmera canon', 591120, 994303)]\n",
    "\n",
    "#seu código aqui"
   ]
  },
  {
   "cell_type": "code",
   "execution_count": 15,
   "metadata": {},
   "outputs": [
    {
     "name": "stdout",
     "output_type": "stream",
     "text": [
      "iphone, vendeu 558,147 em 2019 e 951,642 em 2020. Variação de 70.50%\n",
      "tv, vendeu 405,252 em 2019 e 787,604 em 2020. Variação de 94.35%\n",
      "máquina de café, vendeu 718,654 em 2019 e 867,660 em 2020. Variação de 20.73%\n",
      "notebook dell, vendeu 422,760 em 2019 e 694,913 em 2020. Variação de 64.38%\n",
      "notebook hp, vendeu 154,753 em 2019 e 539,704 em 2020. Variação de 248.75%\n",
      "microsoft surface, vendeu 438,508 em 2019 e 667,179 em 2020. Variação de 52.15%\n",
      "webcam, vendeu 237,467 em 2019 e 295,633 em 2020. Variação de 24.49%\n",
      "caixa de som, vendeu 489,705 em 2019 e 725,316 em 2020. Variação de 48.11%\n",
      "microfone, vendeu 328,311 em 2019 e 644,622 em 2020. Variação de 96.34%\n",
      "câmera canon, vendeu 591,120 em 2019 e 994,303 em 2020. Variação de 68.21%\n"
     ]
    }
   ],
   "source": [
    "for item in vendas_produtos:\n",
    "    produto, vendas2019, vendas2020 = item\n",
    "    if vendas2020 > vendas2019:\n",
    "        print('{}, vendeu {:,} em 2019 e {:,} em 2020. Variação de {:.2%}'.format(produto, vendas2019, vendas2020, (vendas2020/vendas2019-1)))"
   ]
  },
  {
   "cell_type": "code",
   "execution_count": null,
   "metadata": {},
   "outputs": [],
   "source": []
  }
 ],
 "metadata": {
  "kernelspec": {
   "display_name": "Python 3",
   "language": "python",
   "name": "python3"
  },
  "language_info": {
   "codemirror_mode": {
    "name": "ipython",
    "version": 3
   },
   "file_extension": ".py",
   "mimetype": "text/x-python",
   "name": "python",
   "nbconvert_exporter": "python",
   "pygments_lexer": "ipython3",
   "version": "3.8.5"
  }
 },
 "nbformat": 4,
 "nbformat_minor": 4
}
